{
 "cells": [
  {
   "cell_type": "raw",
   "id": "53b506b1",
   "metadata": {},
   "source": [
    "In this Notebook we have input text file(Hungarain Corpus) with  long lenght for lines what we do:\n",
    "    - read this text line by line and do normlization for it and then break lines by spsfic length \n",
    "    - save results as text file (target make file like brown corpus)"
   ]
  },
  {
   "cell_type": "code",
   "execution_count": null,
   "id": "40915bba",
   "metadata": {},
   "outputs": [],
   "source": [
    "# https://www.geeksforgeeks.org/read-a-file-line-by-line-in-python/"
   ]
  },
  {
   "cell_type": "code",
   "execution_count": 3,
   "id": "3fcaae3e",
   "metadata": {},
   "outputs": [
    {
     "name": "stdout",
     "output_type": "stream",
     "text": [
      "\n",
      "First \n",
      " Second\n",
      "Third \n",
      "\n"
     ]
    }
   ],
   "source": [
    "import re\n",
    "my_string = \"\"\"\n",
    "First http://example.com\n",
    "https://google.com Second\n",
    "Third https://example.com\n",
    "\"\"\"\n",
    "result = re.sub(r'https?://\\S+', '', my_string)\n",
    "print(result)"
   ]
  },
  {
   "cell_type": "code",
   "execution_count": 4,
   "id": "6edf6b37",
   "metadata": {},
   "outputs": [
    {
     "name": "stdout",
     "output_type": "stream",
     "text": [
      "\n",
      "First ,\n",
      "a   b  c  d   e   f g   h   i   j   krrr    l   m   n   o ] p q r    s       -\n",
      "\n"
     ]
    }
   ],
   "source": [
    "my_string2 = \"\"\"\n",
    "First ,\n",
    "a ► b (c) d  •e  ©f@g  …h  ~i  😀j  >krrr   <l  `m  !n  _o ] p{q}r ++ s ***** -\n",
    "\"\"\"\n",
    "result2 = re.sub(r'[ ► (  )  •  ©  @  …  ~  😀  >  <  `  !  _ { } + * ]', ' ', my_string2)\n",
    "print(result2)"
   ]
  },
  {
   "cell_type": "markdown",
   "id": "85fcc8b6",
   "metadata": {},
   "source": [
    "# Read a File Line by Line using readlines()"
   ]
  },
  {
   "cell_type": "code",
   "execution_count": 6,
   "id": "e7a0e64d",
   "metadata": {},
   "outputs": [
    {
     "name": "stdout",
     "output_type": "stream",
     "text": [
      "Belfأ¶ld - Magyarorszأ،g hأ­rei > Elأ©gedetlenek az emberek a kأ¶zoktatأ،ssal?\n",
      "Elأ©gedetlenek az emberek a kأ¶zoktatأ،ssal?\n",
      "Fأ¼ggetlen Hأ­rأ¼gynأ¶ksأ©g\n",
      "\n",
      "Az emberek nagyobb rأ©sze elأ©gedetlen a magyarorszأ،gi kأ¶zoktatأ،s minإ‘sأ©gأ©vel. Sokan nem tartjأ،k megfelelإ‘en felkأ©szأ¼ltnek a pedagأ³gusokat أ©s szأ¼ksأ©gesnek tartanأ،k a tanأ،rok gyakori, elsإ‘sorban pszicholأ³giai tovأ،bbkأ©pzأ©sأ©t - derأ¼l ki abbأ³l az internetes kutatأ،sbأ³l, amelyet a diaktanito.hu أ©s a doo.hu vأ©gzett أ،prilisban.\n",
      "A vأ،laszadأ³k 85 szأ،zalأ©ka nyilatkozta, hogy elأ©gedetlen a kأ¶zoktatأ،s minإ‘sأ©gأ©vel. A vأ،laszadأ³k csupأ،n fele gondolja, hogy a pedagأ³gusok kellإ‘en felkأ©szأ¼ltek, 85 szأ،zalأ©kuk tartanأ، szأ¼ksأ©gesnek elsإ‘sorban pszicholأ³giai tovأ،bbkأ©pzأ©sأ¼ket.\n",
      "A megkأ©rdezettek fele gondolja أ؛gy, hogy a tanأ،rok fizetأ©sأ©nek nأ¶velأ©se hozzأ،jأ،rulna az oktatأ،s minإ‘sأ©gأ©nek javأ­tأ،sأ،ban, 46 szأ،zalأ©kuk szerint viszont nincs أ¶sszefأ¼ggأ©s a kettإ‘ kأ¶zأ¶tt. A jelenlegi kأ¶zoktatأ،si mأ³dszereket a vأ،laszadأ³k 71 szأ،zalأ©ka elavultnak tartja أ©s hأ،romnegyedأ¼k szerint szأ¼ksأ©ges, hogy gyermeke a kأ¶zoktatأ،s mellett magأ،noktatأ،sban is gyakorolja a tananyagot.\n",
      "A kأ©rdإ‘أ­vre vأ،laszolأ³k 60 szأ،zalأ©ka szerint az أ،ltalأ،nos iskolai oktatأ،s nem kأ©szأ­ti fel megfelelإ‘en a diأ،kokat a kأ¶zأ©piskolai felvأ©telikhez.\n",
      "Az iskolai erإ‘szakrأ³l nyilatkozأ³knak csak a fele أ©rzi, hogy gyermeke biztonsأ،gban van az iskolأ،ban.\n"
     ]
    }
   ],
   "source": [
    "# Using readlines()\n",
    "file1 = open('sample_split.txt', 'r', encoding='utf-8')\n",
    "Lines = file1.readlines()\n",
    "  \n",
    "# Strips the newline character\n",
    "for line in Lines:\n",
    "      print(\"{}\".format(line.strip()))"
   ]
  },
  {
   "cell_type": "markdown",
   "id": "26345ba3",
   "metadata": {},
   "source": [
    "# Read a File Line by Line using readline()"
   ]
  },
  {
   "cell_type": "code",
   "execution_count": 7,
   "id": "9e738d73",
   "metadata": {},
   "outputs": [
    {
     "name": "stdout",
     "output_type": "stream",
     "text": [
      "The Fulton County Grand Jury said Friday an investigation of Atlanta's recent primary election produced \"no evidence\" that any irregularities took place.\n",
      "The jury further said in term-end presentments that the City Executive Committee, which had over-all charge of the election, \"deserves the praise and thanks of the City of Atlanta\" for the manner in which the election was conducted.\n"
     ]
    }
   ],
   "source": [
    "# Using readline()\n",
    "file1 = open('input.txt', 'r' ,encoding='utf-8')\n",
    "while True:\n",
    "    # Get next line from file\n",
    "    line = file1.readline()\n",
    "  \n",
    "    # if line is empty\n",
    "    # end of file is reached\n",
    "    if not line:\n",
    "        break\n",
    "    \n",
    "    print(\"{}\".format(line.strip()))\n",
    "  \n",
    "file1.close()"
   ]
  },
  {
   "cell_type": "markdown",
   "id": "18b41851",
   "metadata": {},
   "source": [
    "# Method 3: Read a File Line by Line using for loop"
   ]
  },
  {
   "cell_type": "code",
   "execution_count": 115,
   "id": "582371d1",
   "metadata": {},
   "outputs": [
    {
     "data": {
      "text/plain": [
       "['The Fulton County Grand Jury said Friday an investigation of Atlanta\\'s recent primary election produced \"no evidence\" that any irregularities took place.',\n",
       " 'The jury further said in term-end presentments that the City Executive Committee, which had over-all charge of the election, \"deserves the praise and thanks of the City of Atlanta\" for the manner in which the election was conducted.']"
      ]
     },
     "execution_count": 115,
     "metadata": {},
     "output_type": "execute_result"
    }
   ],
   "source": [
    "# Opening file\n",
    "file1 = open('input.txt', 'r' ,encoding='utf-8')\n",
    "lines = []\n",
    "for line in file1:\n",
    "    lines.append(line.strip())\n",
    "# Closing files\n",
    "file1.close()\n",
    "lines"
   ]
  },
  {
   "cell_type": "markdown",
   "id": "0e33c74a",
   "metadata": {},
   "source": [
    "# Method 4: Read a File Line by Line using for loop and list comprehension"
   ]
  },
  {
   "cell_type": "code",
   "execution_count": 1,
   "id": "4126ed2b",
   "metadata": {},
   "outputs": [
    {
     "name": "stdout",
     "output_type": "stream",
     "text": [
      "['Belföld - Magyarország hírei > Elégedetlenek az emberek a közoktatással?', 'Elégedetlenek az emberek a közoktatással?', 'Független Hírügynökség', '', 'Az emberek nagyobb része elégedetlen a magyarországi közoktatás minőségével. Sokan nem tartják megfelelően felkészültnek a pedagógusokat és szükségesnek tartanák a tanárok gyakori, elsősorban pszichológiai továbbképzését - derül ki abból az internetes kutatásból, amelyet a diaktanito.hu és a doo.hu végzett áprilisban.', 'A válaszadók 85 százaléka nyilatkozta, hogy elégedetlen a közoktatás minőségével. A válaszadók csupán fele gondolja, hogy a pedagógusok kellően felkészültek, 85 százalékuk tartaná szükségesnek elsősorban pszichológiai továbbképzésüket.', 'A megkérdezettek fele gondolja úgy, hogy a tanárok fizetésének növelése hozzájárulna az oktatás minőségének javításában, 46 százalékuk szerint viszont nincs összefüggés a kettő között. A jelenlegi közoktatási módszereket a válaszadók 71 százaléka elavultnak tartja és háromnegyedük szerint szükséges, hogy gyermeke a közoktatás mellett magánoktatásban is gyakorolja a tananyagot.', 'A kérdőívre válaszolók 60 százaléka szerint az általános iskolai oktatás nem készíti fel megfelelően a diákokat a középiskolai felvételikhez.', 'Az iskolai erőszakról nyilatkozóknak csak a fele érzi, hogy gyermeke biztonságban van az iskolában.']\n"
     ]
    }
   ],
   "source": [
    "# removing the new line characters\n",
    "with open('sample_split.txt', 'r' ,encoding='utf-8') as f:\n",
    "    lines = [line.rstrip() for line in f]\n",
    "print(lines) \n",
    "# [str1,str2,....., str_n]"
   ]
  },
  {
   "cell_type": "code",
   "execution_count": 2,
   "id": "58c2870a",
   "metadata": {},
   "outputs": [
    {
     "data": {
      "text/plain": [
       "'Az iskolai erőszakról nyilatkozóknak csak a fele érzi, hogy gyermeke biztonságban van az iskolában.'"
      ]
     },
     "execution_count": 2,
     "metadata": {},
     "output_type": "execute_result"
    }
   ],
   "source": [
    "lines[-1]"
   ]
  },
  {
   "cell_type": "code",
   "execution_count": 3,
   "id": "c7c888c6",
   "metadata": {},
   "outputs": [],
   "source": [
    "import re\n",
    "def normlized_text(line):\n",
    "    result1 = re.sub(r'[ ► (  )  •  ©  @  …  ~  😀  >  <  `  !  _ { } + * ]', ' ', line)\n",
    "#     Q: url (remove word after ??!!) not matter if you remove it \n",
    "    result2 = re.sub(r'https?://\\S+', '', result1)\n",
    "    return result2\n",
    "# str ---> str "
   ]
  },
  {
   "cell_type": "code",
   "execution_count": 4,
   "id": "279fe59f",
   "metadata": {},
   "outputs": [],
   "source": [
    "words_lists = []\n",
    "def sents_to_words(line):\n",
    "        print(line)\n",
    "        normlized_line = normlized_text(line)\n",
    "        print(normlized_line)\n",
    "        words = normlized_line.split()\n",
    "        print(words)\n",
    "        return (words_lists.append(words))\n",
    "# line: str --> words[]:list\n",
    "# words_lists[words1['w1','w2',....,'w_n'],words2['w1','w2',....,'w_n'],words3['w1','w2',....,'w_n'] ....words_n['w1','w2',....,'w_n']]"
   ]
  },
  {
   "cell_type": "code",
   "execution_count": 5,
   "id": "7eee9836",
   "metadata": {},
   "outputs": [
    {
     "name": "stdout",
     "output_type": "stream",
     "text": [
      "Az iskolai erőszakról nyilatkozóknak csak a fele érzi, hogy gyermeke biztonságban van az iskolában.\n",
      "Az iskolai erőszakról nyilatkozóknak csak a fele érzi, hogy gyermeke biztonságban van az iskolában.\n",
      "['Az', 'iskolai', 'erőszakról', 'nyilatkozóknak', 'csak', 'a', 'fele', 'érzi,', 'hogy', 'gyermeke', 'biztonságban', 'van', 'az', 'iskolában.']\n"
     ]
    }
   ],
   "source": [
    "# print(word_siplit('Az iskolai erإ‘szakrأ³l https://www.geeksforgeeks.org/read-a-file-line-by-line-in-python/ nyilatkozأ³knak csak a fele أ©rzi, hogy gyermeke biztonsأ،gban van az iskolأ،ban.')) # ,lines[-1])\n",
    "sents_to_words(lines[-1])"
   ]
  },
  {
   "cell_type": "code",
   "execution_count": 6,
   "id": "34746f31",
   "metadata": {},
   "outputs": [
    {
     "data": {
      "text/plain": [
       "[['Az',\n",
       "  'iskolai',\n",
       "  'erőszakról',\n",
       "  'nyilatkozóknak',\n",
       "  'csak',\n",
       "  'a',\n",
       "  'fele',\n",
       "  'érzi,',\n",
       "  'hogy',\n",
       "  'gyermeke',\n",
       "  'biztonságban',\n",
       "  'van',\n",
       "  'az',\n",
       "  'iskolában.']]"
      ]
     },
     "execution_count": 6,
     "metadata": {},
     "output_type": "execute_result"
    }
   ],
   "source": [
    "words_lists"
   ]
  },
  {
   "cell_type": "code",
   "execution_count": 7,
   "id": "f82a7c5d",
   "metadata": {},
   "outputs": [],
   "source": [
    "# normlized_list = []\n",
    "# for line in lines:\n",
    "#     normlized_line = normlized_text(line)\n",
    "#     normlized_list.append(normlized_line)"
   ]
  },
  {
   "cell_type": "code",
   "execution_count": 8,
   "id": "b66dce14",
   "metadata": {},
   "outputs": [],
   "source": [
    "# for line in lines:\n",
    "#     normlized_line = normlized_text(line)\n",
    "#     normlized_list.append(normlized_line)"
   ]
  },
  {
   "cell_type": "code",
   "execution_count": 113,
   "id": "b28a00ab",
   "metadata": {},
   "outputs": [
    {
     "data": {
      "text/plain": [
       "['Belfأ¶ld - Magyarorszأ،g hأ\\xadrei   Elأ gedetlenek az emberek a kأ¶zoktatأ،ssal?',\n",
       " 'Elأ gedetlenek az emberek a kأ¶zoktatأ،ssal?',\n",
       " 'Fأ¼ggetlen Hأ\\xadrأ¼gynأ¶ksأ g',\n",
       " '',\n",
       " 'Az emberek nagyobb rأ sze elأ gedetlen a magyarorszأ،gi kأ¶zoktatأ،s minإ‘sأ gأ vel. Sokan nem tartjأ،k megfelelإ‘en felkأ szأ¼ltnek a pedagأ³gusokat أ s szأ¼ksأ gesnek tartanأ،k a tanأ،rok gyakori, elsإ‘sorban pszicholأ³giai tovأ،bbkأ pzأ sأ t - derأ¼l ki abbأ³l az internetes kutatأ،sbأ³l, amelyet a diaktanito.hu أ s a doo.hu vأ gzett أ،prilisban.',\n",
       " 'A vأ،laszadأ³k 85 szأ،zalأ ka nyilatkozta, hogy elأ gedetlen a kأ¶zoktatأ،s minإ‘sأ gأ vel. A vأ،laszadأ³k csupأ،n fele gondolja, hogy a pedagأ³gusok kellإ‘en felkأ szأ¼ltek, 85 szأ،zalأ kuk tartanأ، szأ¼ksأ gesnek elsإ‘sorban pszicholأ³giai tovأ،bbkأ pzأ sأ¼ket.',\n",
       " 'A megkأ rdezettek fele gondolja أ؛gy, hogy a tanأ،rok fizetأ sأ nek nأ¶velأ se hozzأ،jأ،rulna az oktatأ،s minإ‘sأ gأ nek javأ\\xadtأ،sأ،ban, 46 szأ،zalأ kuk szerint viszont nincs أ¶sszefأ¼ggأ s a kettإ‘ kأ¶zأ¶tt. A jelenlegi kأ¶zoktatأ،si mأ³dszereket a vأ،laszadأ³k 71 szأ،zalأ ka elavultnak tartja أ s hأ،romnegyedأ¼k szerint szأ¼ksأ ges, hogy gyermeke a kأ¶zoktatأ،s mellett magأ،noktatأ،sban is gyakorolja a tananyagot.',\n",
       " 'A kأ rdإ‘أ\\xadvre vأ،laszolأ³k 60 szأ،zalأ ka szerint az أ،ltalأ،nos iskolai oktatأ،s nem kأ szأ\\xadti fel megfelelإ‘en a diأ،kokat a kأ¶zأ piskolai felvأ telikhez.',\n",
       " 'Az iskolai erإ‘szakrأ³l nyilatkozأ³knak csak a fele أ rzi, hogy gyermeke biztonsأ،gban van az iskolأ،ban.',\n",
       " 'Belfأ¶ld - Magyarorszأ،g hأ\\xadrei   Elأ gedetlenek az emberek a kأ¶zoktatأ،ssal?',\n",
       " 'Elأ gedetlenek az emberek a kأ¶zoktatأ،ssal?',\n",
       " 'Fأ¼ggetlen Hأ\\xadrأ¼gynأ¶ksأ g',\n",
       " '',\n",
       " 'Az emberek nagyobb rأ sze elأ gedetlen a magyarorszأ،gi kأ¶zoktatأ،s minإ‘sأ gأ vel. Sokan nem tartjأ،k megfelelإ‘en felkأ szأ¼ltnek a pedagأ³gusokat أ s szأ¼ksأ gesnek tartanأ،k a tanأ،rok gyakori, elsإ‘sorban pszicholأ³giai tovأ،bbkأ pzأ sأ t - derأ¼l ki abbأ³l az internetes kutatأ،sbأ³l, amelyet a diaktanito.hu أ s a doo.hu vأ gzett أ،prilisban.',\n",
       " 'A vأ،laszadأ³k 85 szأ،zalأ ka nyilatkozta, hogy elأ gedetlen a kأ¶zoktatأ،s minإ‘sأ gأ vel. A vأ،laszadأ³k csupأ،n fele gondolja, hogy a pedagأ³gusok kellإ‘en felkأ szأ¼ltek, 85 szأ،zalأ kuk tartanأ، szأ¼ksأ gesnek elsإ‘sorban pszicholأ³giai tovأ،bbkأ pzأ sأ¼ket.',\n",
       " 'A megkأ rdezettek fele gondolja أ؛gy, hogy a tanأ،rok fizetأ sأ nek nأ¶velأ se hozzأ،jأ،rulna az oktatأ،s minإ‘sأ gأ nek javأ\\xadtأ،sأ،ban, 46 szأ،zalأ kuk szerint viszont nincs أ¶sszefأ¼ggأ s a kettإ‘ kأ¶zأ¶tt. A jelenlegi kأ¶zoktatأ،si mأ³dszereket a vأ،laszadأ³k 71 szأ،zalأ ka elavultnak tartja أ s hأ،romnegyedأ¼k szerint szأ¼ksأ ges, hogy gyermeke a kأ¶zoktatأ،s mellett magأ،noktatأ،sban is gyakorolja a tananyagot.',\n",
       " 'A kأ rdإ‘أ\\xadvre vأ،laszolأ³k 60 szأ،zalأ ka szerint az أ،ltalأ،nos iskolai oktatأ،s nem kأ szأ\\xadti fel megfelelإ‘en a diأ،kokat a kأ¶zأ piskolai felvأ telikhez.',\n",
       " 'Az iskolai erإ‘szakrأ³l nyilatkozأ³knak csak a fele أ rzi, hogy gyermeke biztonsأ،gban van az iskolأ،ban.']"
      ]
     },
     "execution_count": 113,
     "metadata": {},
     "output_type": "execute_result"
    }
   ],
   "source": [
    "# normlized_list"
   ]
  },
  {
   "cell_type": "code",
   "execution_count": 114,
   "id": "708167a6",
   "metadata": {},
   "outputs": [
    {
     "name": "stdout",
     "output_type": "stream",
     "text": [
      "18\n",
      "Belfأ¶ld - Magyarorszأ،g hأ­rei   Elأ gedetlenek az emberek a kأ¶zoktatأ،ssal?\n",
      "Elأ gedetlenek az emberek a kأ¶zoktatأ،ssal?\n",
      "Fأ¼ggetlen Hأ­rأ¼gynأ¶ksأ g\n",
      "\n",
      "Az emberek nagyobb rأ sze elأ gedetlen a magyarorszأ،gi kأ¶zoktatأ،s minإ‘sأ gأ vel. Sokan nem tartjأ،k megfelelإ‘en felkأ szأ¼ltnek a pedagأ³gusokat أ s szأ¼ksأ gesnek tartanأ،k a tanأ،rok gyakori, elsإ‘sorban pszicholأ³giai tovأ،bbkأ pzأ sأ t - derأ¼l ki abbأ³l az internetes kutatأ،sbأ³l, amelyet a diaktanito.hu أ s a doo.hu vأ gzett أ،prilisban.\n",
      "A vأ،laszadأ³k 85 szأ،zalأ ka nyilatkozta, hogy elأ gedetlen a kأ¶zoktatأ،s minإ‘sأ gأ vel. A vأ،laszadأ³k csupأ،n fele gondolja, hogy a pedagأ³gusok kellإ‘en felkأ szأ¼ltek, 85 szأ،zalأ kuk tartanأ، szأ¼ksأ gesnek elsإ‘sorban pszicholأ³giai tovأ،bbkأ pzأ sأ¼ket.\n",
      "A megkأ rdezettek fele gondolja أ؛gy, hogy a tanأ،rok fizetأ sأ nek nأ¶velأ se hozzأ،jأ،rulna az oktatأ،s minإ‘sأ gأ nek javأ­tأ،sأ،ban, 46 szأ،zalأ kuk szerint viszont nincs أ¶sszefأ¼ggأ s a kettإ‘ kأ¶zأ¶tt. A jelenlegi kأ¶zoktatأ،si mأ³dszereket a vأ،laszadأ³k 71 szأ،zalأ ka elavultnak tartja أ s hأ،romnegyedأ¼k szerint szأ¼ksأ ges, hogy gyermeke a kأ¶zoktatأ،s mellett magأ،noktatأ،sban is gyakorolja a tananyagot.\n",
      "A kأ rdإ‘أ­vre vأ،laszolأ³k 60 szأ،zalأ ka szerint az أ،ltalأ،nos iskolai oktatأ،s nem kأ szأ­ti fel megfelelإ‘en a diأ،kokat a kأ¶zأ piskolai felvأ telikhez.\n",
      "Az iskolai erإ‘szakrأ³l nyilatkozأ³knak csak a fele أ rzi, hogy gyermeke biztonsأ،gban van az iskolأ،ban.\n",
      "Belfأ¶ld - Magyarorszأ،g hأ­rei   Elأ gedetlenek az emberek a kأ¶zoktatأ،ssal?\n",
      "Elأ gedetlenek az emberek a kأ¶zoktatأ،ssal?\n",
      "Fأ¼ggetlen Hأ­rأ¼gynأ¶ksأ g\n",
      "\n",
      "Az emberek nagyobb rأ sze elأ gedetlen a magyarorszأ،gi kأ¶zoktatأ،s minإ‘sأ gأ vel. Sokan nem tartjأ،k megfelelإ‘en felkأ szأ¼ltnek a pedagأ³gusokat أ s szأ¼ksأ gesnek tartanأ،k a tanأ،rok gyakori, elsإ‘sorban pszicholأ³giai tovأ،bbkأ pzأ sأ t - derأ¼l ki abbأ³l az internetes kutatأ،sbأ³l, amelyet a diaktanito.hu أ s a doo.hu vأ gzett أ،prilisban.\n",
      "A vأ،laszadأ³k 85 szأ،zalأ ka nyilatkozta, hogy elأ gedetlen a kأ¶zoktatأ،s minإ‘sأ gأ vel. A vأ،laszadأ³k csupأ،n fele gondolja, hogy a pedagأ³gusok kellإ‘en felkأ szأ¼ltek, 85 szأ،zalأ kuk tartanأ، szأ¼ksأ gesnek elsإ‘sorban pszicholأ³giai tovأ،bbkأ pzأ sأ¼ket.\n",
      "A megkأ rdezettek fele gondolja أ؛gy, hogy a tanأ،rok fizetأ sأ nek nأ¶velأ se hozzأ،jأ،rulna az oktatأ،s minإ‘sأ gأ nek javأ­tأ،sأ،ban, 46 szأ،zalأ kuk szerint viszont nincs أ¶sszefأ¼ggأ s a kettإ‘ kأ¶zأ¶tt. A jelenlegi kأ¶zoktatأ،si mأ³dszereket a vأ،laszadأ³k 71 szأ،zalأ ka elavultnak tartja أ s hأ،romnegyedأ¼k szerint szأ¼ksأ ges, hogy gyermeke a kأ¶zoktatأ،s mellett magأ،noktatأ،sban is gyakorolja a tananyagot.\n",
      "A kأ rdإ‘أ­vre vأ،laszolأ³k 60 szأ،zalأ ka szerint az أ،ltalأ،nos iskolai oktatأ،s nem kأ szأ­ti fel megfelelإ‘en a diأ،kokat a kأ¶zأ piskolai felvأ telikhez.\n",
      "Az iskolai erإ‘szakrأ³l nyilatkozأ³knak csak a fele أ rzi, hogy gyermeke biztonsأ،gban van az iskolأ،ban.\n"
     ]
    }
   ],
   "source": [
    "# print(len(normlized_list))\n",
    "# for i in normlized_list :\n",
    "#     print(i)"
   ]
  },
  {
   "cell_type": "markdown",
   "id": "535d5164",
   "metadata": {},
   "source": [
    "# Issue removing word after url "
   ]
  },
  {
   "cell_type": "code",
   "execution_count": 9,
   "id": "749a7ecc",
   "metadata": {},
   "outputs": [
    {
     "name": "stdout",
     "output_type": "stream",
     "text": [
      "Belfأ¶ld -  hأ­rei   Elأ gedetlenek az emberek a kأ¶zoktatأ،ssal?\n"
     ]
    }
   ],
   "source": [
    "print(normlized_text('Belfأ¶ld - https://www.geeksforgeeks.org/read-a-file-line-by-line-in-python/Magyarorszأ،g hأ\\xadrei > Elأ©gedetlenek az emberek a kأ¶zoktatأ،ssal?'))"
   ]
  },
  {
   "cell_type": "code",
   "execution_count": 10,
   "id": "dd25b148",
   "metadata": {},
   "outputs": [
    {
     "name": "stdout",
     "output_type": "stream",
     "text": [
      " Fulton County Grand Jury said Friday an investigation of Atlanta's recent primary election produced \"no evidence\" that any irregularities took place.\n"
     ]
    }
   ],
   "source": [
    "print(normlized_text('https://www.geeksforgeeks.org/read-a-file-line-by-line-in-python/The Fulton County Grand Jury said Friday an investigation of Atlanta\\'s recent primary election produced \"no evidence\" that any irregularities took place.'))"
   ]
  },
  {
   "cell_type": "code",
   "execution_count": 126,
   "id": "a7e54a49",
   "metadata": {},
   "outputs": [],
   "source": [
    "# for line in lines:\n",
    "#     word_siplit(line)"
   ]
  },
  {
   "cell_type": "code",
   "execution_count": 11,
   "id": "77f30e43",
   "metadata": {},
   "outputs": [
    {
     "name": "stdout",
     "output_type": "stream",
     "text": [
      "['Az', 'iskolai', 'erőszakról', 'nyilatkozóknak', 'csak', 'a', 'fele', 'érzi,', 'hogy', 'gyermeke', 'biztonságban', 'van', 'az', 'iskolában.']\n"
     ]
    }
   ],
   "source": [
    "# [[words]]\n",
    "for words in words_lists:\n",
    "    print(words)"
   ]
  },
  {
   "cell_type": "code",
   "execution_count": 12,
   "id": "55343954",
   "metadata": {},
   "outputs": [
    {
     "name": "stdout",
     "output_type": "stream",
     "text": [
      "14\n"
     ]
    }
   ],
   "source": [
    "flat_list = [word for sublist in words_lists for word in sublist]\n",
    "print(len(flat_list))"
   ]
  },
  {
   "cell_type": "code",
   "execution_count": 13,
   "id": "bcb5f041",
   "metadata": {},
   "outputs": [
    {
     "data": {
      "text/plain": [
       "'iskolában.'"
      ]
     },
     "execution_count": 13,
     "metadata": {},
     "output_type": "execute_result"
    }
   ],
   "source": [
    "flat_list[-1]"
   ]
  },
  {
   "cell_type": "code",
   "execution_count": 36,
   "id": "3ec2e983",
   "metadata": {},
   "outputs": [],
   "source": [
    "# index = 0 \n",
    "# while index != len(flat_list):\n",
    "#     print(flat_list[index:index+10])\n",
    "#     index+=1"
   ]
  },
  {
   "cell_type": "markdown",
   "id": "045f00ad",
   "metadata": {},
   "source": [
    "# Method 1: Break a list into chunks of size N in Python using yield keyword"
   ]
  },
  {
   "cell_type": "code",
   "execution_count": 12,
   "id": "32291366",
   "metadata": {},
   "outputs": [],
   "source": [
    "# # Yield successive n-sized\n",
    "# # chunks from l.\n",
    "# def divide_chunks(l, n):\n",
    "\n",
    "#     # looping till length l\n",
    "#     for i in range(0, len(l), n): # range(start,end,steps)\n",
    "#         yield l[i:i + n]\n",
    "\n",
    "# # How many elements each\n",
    "# # list should have\n",
    "# import random\n",
    "# n = random.randint(10, 13)\n",
    "# print(n)\n",
    "# x = list(divide_chunks(flat_list, n))\n",
    "# print (x)\n",
    "# # [[words1] ,[words2]] => [str1,str2,...]\n",
    "# # [str1,str2,...] ==>  txt file \n",
    "# #                        str1 --> line1\n",
    "# #                        str2 --> line2\n",
    "# #                        ...       ..."
   ]
  },
  {
   "cell_type": "markdown",
   "id": "7e82b7fb",
   "metadata": {},
   "source": [
    "# Method 2: Break a list into chunks of size N in Python using a loop"
   ]
  },
  {
   "cell_type": "code",
   "execution_count": 54,
   "id": "dfb0f239",
   "metadata": {},
   "outputs": [
    {
     "name": "stdout",
     "output_type": "stream",
     "text": [
      "['Belfأ¶ld', '-', 'Magyarorszأ،g', 'hأ\\xadrei', '>', 'Elأ©gedetlenek', 'az', 'emberek', 'a', 'kأ¶zoktatأ،ssal?', 'Elأ©gedetlenek', 'az', 'emberek']\n",
      "['a', 'kأ¶zoktatأ،ssal?', 'Fأ¼ggetlen', 'Hأ\\xadrأ¼gynأ¶ksأ©g', 'Az', 'emberek', 'nagyobb', 'rأ©sze', 'elأ©gedetlen', 'a', 'magyarorszأ،gi', 'kأ¶zoktatأ،s', 'minإ‘sأ©gأ©vel.']\n",
      "['Sokan', 'nem', 'tartjأ،k', 'megfelelإ‘en', 'felkأ©szأ¼ltnek', 'a', 'pedagأ³gusokat', 'أ©s', 'szأ¼ksأ©gesnek', 'tartanأ،k', 'a', 'tanأ،rok', 'gyakori,']\n",
      "['elsإ‘sorban', 'pszicholأ³giai', 'tovأ،bbkأ©pzأ©sأ©t', '-', 'derأ¼l', 'ki', 'abbأ³l', 'az', 'internetes', 'kutatأ،sbأ³l,', 'amelyet', 'a', 'diaktanito.hu']\n",
      "['أ©s', 'a', 'doo.hu', 'vأ©gzett', 'أ،prilisban.', 'A', 'vأ،laszadأ³k', '85', 'szأ،zalأ©ka', 'nyilatkozta,', 'hogy', 'elأ©gedetlen', 'a']\n",
      "['kأ¶zoktatأ،s', 'minإ‘sأ©gأ©vel.', 'A', 'vأ،laszadأ³k', 'csupأ،n', 'fele', 'gondolja,', 'hogy', 'a', 'pedagأ³gusok', 'kellإ‘en', 'felkأ©szأ¼ltek,', '85']\n",
      "['szأ،zalأ©kuk', 'tartanأ،', 'szأ¼ksأ©gesnek', 'elsإ‘sorban', 'pszicholأ³giai', 'tovأ،bbkأ©pzأ©sأ¼ket.', 'A', 'megkأ©rdezettek', 'fele', 'gondolja', 'أ؛gy,', 'hogy', 'a']\n",
      "['tanأ،rok', 'fizetأ©sأ©nek', 'nأ¶velأ©se', 'hozzأ،jأ،rulna', 'az', 'oktatأ،s', 'minإ‘sأ©gأ©nek', 'javأ\\xadtأ،sأ،ban,', '46', 'szأ،zalأ©kuk', 'szerint', 'viszont', 'nincs']\n",
      "['أ¶sszefأ¼ggأ©s', 'a', 'kettإ‘', 'kأ¶zأ¶tt.', 'A', 'jelenlegi', 'kأ¶zoktatأ،si', 'mأ³dszereket', 'a', 'vأ،laszadأ³k', '71', 'szأ،zalأ©ka', 'elavultnak']\n",
      "['tartja', 'أ©s', 'hأ،romnegyedأ¼k', 'szerint', 'szأ¼ksأ©ges,', 'hogy', 'gyermeke', 'a', 'kأ¶zoktatأ،s', 'mellett', 'magأ،noktatأ،sban', 'is', 'gyakorolja']\n",
      "['a', 'tananyagot.', 'A', 'kأ©rdإ‘أ\\xadvre', 'vأ،laszolأ³k', '60', 'szأ،zalأ©ka', 'szerint', 'az', 'أ،ltalأ،nos', 'iskolai', 'oktatأ،s', 'nem']\n",
      "['kأ©szأ\\xadti', 'fel', 'megfelelإ‘en', 'a', 'diأ،kokat', 'a', 'kأ¶zأ©piskolai', 'felvأ©telikhez.', 'Az', 'iskolai', 'erإ‘szakrأ³l', 'nyilatkozأ³knak', 'csak']\n",
      "['a', 'fele', 'أ©rzi,', 'hogy', 'gyermeke', 'biztonsأ،gban', 'van', 'az', 'iskolأ،ban.']\n"
     ]
    }
   ],
   "source": [
    "# start = 0\n",
    "# end = len(flat_list)\n",
    "# step = random.randint(10, 13)\n",
    "# for i in range(start, end, step):\n",
    "#     x = i\n",
    "#     print(flat_list[x:x+step])"
   ]
  },
  {
   "cell_type": "markdown",
   "id": "a816c6cc",
   "metadata": {},
   "source": [
    "# Method 3: Break a list into chunks of size N in Python using List comprehension "
   ]
  },
  {
   "cell_type": "code",
   "execution_count": 14,
   "id": "e0c94809",
   "metadata": {},
   "outputs": [
    {
     "name": "stdout",
     "output_type": "stream",
     "text": [
      "[['Az', 'iskolai', 'erőszakról', 'nyilatkozóknak', 'csak', 'a', 'fele', 'érzi,', 'hogy', 'gyermeke', 'biztonságban', 'van', 'az'], ['iskolában.']]\n"
     ]
    }
   ],
   "source": [
    "import random\n",
    "n = random.randint(10, 13)\n",
    "# using list comprehension\n",
    "# final = [flat_list[i * n:(i + 1) * n] for i in range((len(flat_list) + n - 1) // n )]\n",
    "final = [flat_list[i:i + n] for i in range(0, len(flat_list), n)] # alternative \n",
    "print (final)"
   ]
  },
  {
   "cell_type": "markdown",
   "id": "56a4ffa9",
   "metadata": {},
   "source": [
    "# Method 5: Break a list into chunks of size N in Python using itertool"
   ]
  },
  {
   "cell_type": "code",
   "execution_count": 69,
   "id": "20c7ad22",
   "metadata": {},
   "outputs": [
    {
     "data": {
      "text/plain": [
       "('Belfأ¶ld',\n",
       " '-',\n",
       " 'Magyarorszأ،g',\n",
       " 'hأ\\xadrei',\n",
       " '>',\n",
       " 'Elأ©gedetlenek',\n",
       " 'az',\n",
       " 'emberek',\n",
       " 'a',\n",
       " 'kأ¶zoktatأ،ssal?',\n",
       " 'Elأ©gedetlenek',\n",
       " 'az')"
      ]
     },
     "execution_count": 69,
     "metadata": {},
     "output_type": "execute_result"
    }
   ],
   "source": [
    "# from itertools import islice\n",
    "# def chunk(flat_list, arr_size):\n",
    "#     flat_list = iter(flat_list)\n",
    "#     return iter(lambda: tuple(islice(flat_list, arr_size)), ())\n",
    "# list(chunk(flat_list, n))[0]"
   ]
  },
  {
   "cell_type": "markdown",
   "id": "959dca6e",
   "metadata": {},
   "source": [
    "# Method 6: Collections"
   ]
  },
  {
   "cell_type": "code",
   "execution_count": 75,
   "id": "0a447698",
   "metadata": {},
   "outputs": [
    {
     "name": "stdout",
     "output_type": "stream",
     "text": [
      "[['Belfأ¶ld', '-', 'Magyarorszأ،g', 'hأ\\xadrei', '>', 'Elأ©gedetlenek', 'az', 'emberek', 'a', 'kأ¶zoktatأ،ssal?', 'Elأ©gedetlenek', 'az'], ['emberek', 'a', 'kأ¶zoktatأ،ssal?', 'Fأ¼ggetlen', 'Hأ\\xadrأ¼gynأ¶ksأ©g', 'Az', 'emberek', 'nagyobb', 'rأ©sze', 'elأ©gedetlen', 'a', 'magyarorszأ،gi'], ['kأ¶zoktatأ،s', 'minإ‘sأ©gأ©vel.', 'Sokan', 'nem', 'tartjأ،k', 'megfelelإ‘en', 'felkأ©szأ¼ltnek', 'a', 'pedagأ³gusokat', 'أ©s', 'szأ¼ksأ©gesnek', 'tartanأ،k'], ['a', 'tanأ،rok', 'gyakori,', 'elsإ‘sorban', 'pszicholأ³giai', 'tovأ،bbkأ©pzأ©sأ©t', '-', 'derأ¼l', 'ki', 'abbأ³l', 'az', 'internetes'], ['kutatأ،sbأ³l,', 'amelyet', 'a', 'diaktanito.hu', 'أ©s', 'a', 'doo.hu', 'vأ©gzett', 'أ،prilisban.', 'A', 'vأ،laszadأ³k', '85'], ['szأ،zalأ©ka', 'nyilatkozta,', 'hogy', 'elأ©gedetlen', 'a', 'kأ¶zoktatأ،s', 'minإ‘sأ©gأ©vel.', 'A', 'vأ،laszadأ³k', 'csupأ،n', 'fele', 'gondolja,'], ['hogy', 'a', 'pedagأ³gusok', 'kellإ‘en', 'felkأ©szأ¼ltek,', '85', 'szأ،zalأ©kuk', 'tartanأ،', 'szأ¼ksأ©gesnek', 'elsإ‘sorban', 'pszicholأ³giai', 'tovأ،bbkأ©pzأ©sأ¼ket.'], ['A', 'megkأ©rdezettek', 'fele', 'gondolja', 'أ؛gy,', 'hogy', 'a', 'tanأ،rok', 'fizetأ©sأ©nek', 'nأ¶velأ©se', 'hozzأ،jأ،rulna', 'az'], ['oktatأ،s', 'minإ‘sأ©gأ©nek', 'javأ\\xadtأ،sأ،ban,', '46', 'szأ،zalأ©kuk', 'szerint', 'viszont', 'nincs', 'أ¶sszefأ¼ggأ©s', 'a', 'kettإ‘', 'kأ¶zأ¶tt.'], ['A', 'jelenlegi', 'kأ¶zoktatأ،si', 'mأ³dszereket', 'a', 'vأ،laszadأ³k', '71', 'szأ،zalأ©ka', 'elavultnak', 'tartja', 'أ©s', 'hأ،romnegyedأ¼k'], ['szerint', 'szأ¼ksأ©ges,', 'hogy', 'gyermeke', 'a', 'kأ¶zoktatأ،s', 'mellett', 'magأ،noktatأ،sban', 'is', 'gyakorolja', 'a', 'tananyagot.'], ['A', 'kأ©rdإ‘أ\\xadvre', 'vأ،laszolأ³k', '60', 'szأ،zalأ©ka', 'szerint', 'az', 'أ،ltalأ،nos', 'iskolai', 'oktatأ،s', 'nem', 'kأ©szأ\\xadti'], ['fel', 'megfelelإ‘en', 'a', 'diأ،kokat', 'a', 'kأ¶zأ©piskolai', 'felvأ©telikhez.', 'Az', 'iskolai', 'erإ‘szakrأ³l', 'nyilatkozأ³knak', 'csak'], ['a', 'fele', 'أ©rzi,', 'hogy', 'gyermeke', 'biztonsأ،gban', 'van', 'az', 'iskolأ،ban.']]\n"
     ]
    }
   ],
   "source": [
    "# from collections import deque\n",
    "\n",
    "# def split_list(input_list, chunk_size):\n",
    "# # Create a deque object from the input list\n",
    "#     deque_obj = deque(input_list)\n",
    "#     # While the deque object is not empty\n",
    "#     while deque_obj:\n",
    "#         # Pop chunk_size elements from the left side of the deque object\n",
    "#         # and append them to the chunk list\n",
    "#         chunk = []\n",
    "#         for _ in range(chunk_size):\n",
    "#             if deque_obj:\n",
    "#                 chunk.append(deque_obj.popleft())\n",
    "#         # Yield the chunk\n",
    "#         yield chunk\n",
    "# chunks = list(split_list(flat_list, chunk_size= n))\n",
    "# print(chunks) "
   ]
  },
  {
   "cell_type": "code",
   "execution_count": 17,
   "id": "1f6cf851",
   "metadata": {},
   "outputs": [
    {
     "name": "stdout",
     "output_type": "stream",
     "text": [
      "2\n"
     ]
    }
   ],
   "source": [
    "print(len(final))\n",
    "file = open('items.txt','w' ,encoding='utf-8')\n",
    "for items in final:\n",
    "    for item in items:\n",
    "        file.write(item+\" \")\n",
    "    file.write(\"\\n\")\n",
    "file.close()"
   ]
  },
  {
   "cell_type": "code",
   "execution_count": 18,
   "id": "d59d851c",
   "metadata": {},
   "outputs": [],
   "source": [
    "# Writing to file\n",
    "with open(\"newnewnew.txt\", \"w\" ,encoding='utf-8') as fp:\n",
    "    for line in lines:\n",
    "        fp.writelines(line)"
   ]
  },
  {
   "cell_type": "code",
   "execution_count": 19,
   "id": "60c3e601",
   "metadata": {},
   "outputs": [
    {
     "name": "stdout",
     "output_type": "stream",
     "text": [
      "1 \n",
      "\n",
      "['Belföld - Magyarország hírei > Elégedetlenek az emberek a közoktatással?Elégedetlenek az emberek a közoktatással?Független HírügynökségAz emberek nagyobb része elégedetlen a magyarországi közoktatás minőségével. Sokan nem tartják megfelelően felkészültnek a pedagógusokat és szükségesnek tartanák a tanárok gyakori, elsősorban pszichológiai továbbképzését - derül ki abból az internetes kutatásból, amelyet a diaktanito.hu és a doo.hu végzett áprilisban.A válaszadók 85 százaléka nyilatkozta, hogy elégedetlen a közoktatás minőségével. A válaszadók csupán fele gondolja, hogy a pedagógusok kellően felkészültek, 85 százalékuk tartaná szükségesnek elsősorban pszichológiai továbbképzésüket.A megkérdezettek fele gondolja úgy, hogy a tanárok fizetésének növelése hozzájárulna az oktatás minőségének javításában, 46 százalékuk szerint viszont nincs összefüggés a kettő között. A jelenlegi közoktatási módszereket a válaszadók 71 százaléka elavultnak tartja és háromnegyedük szerint szükséges, hogy gyermeke a közoktatás mellett magánoktatásban is gyakorolja a tananyagot.A kérdőívre válaszolók 60 százaléka szerint az általános iskolai oktatás nem készíti fel megfelelően a diákokat a középiskolai felvételikhez.Az iskolai erőszakról nyilatkozóknak csak a fele érzi, hogy gyermeke biztonságban van az iskolában.']\n"
     ]
    }
   ],
   "source": [
    "with open('newnewnew.txt' ,encoding='utf-8') as f:\n",
    "    lines = [line for line in f]\n",
    "print(len(lines),'\\n')\n",
    "# removing the new line characters\n",
    "with open('newnewnew.txt' ,encoding='utf-8') as f:\n",
    "    lines = [line.rstrip() for line in f]\n",
    "print(lines)"
   ]
  },
  {
   "cell_type": "code",
   "execution_count": null,
   "id": "0c0b921e",
   "metadata": {},
   "outputs": [],
   "source": []
  }
 ],
 "metadata": {
  "kernelspec": {
   "display_name": "Python 3 (ipykernel)",
   "language": "python",
   "name": "python3"
  },
  "language_info": {
   "codemirror_mode": {
    "name": "ipython",
    "version": 3
   },
   "file_extension": ".py",
   "mimetype": "text/x-python",
   "name": "python",
   "nbconvert_exporter": "python",
   "pygments_lexer": "ipython3",
   "version": "3.9.7"
  }
 },
 "nbformat": 4,
 "nbformat_minor": 5
}
