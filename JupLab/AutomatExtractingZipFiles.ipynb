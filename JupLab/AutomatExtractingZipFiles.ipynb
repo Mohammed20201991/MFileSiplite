{
 "cells": [
  {
   "cell_type": "markdown",
   "id": "bbd62562",
   "metadata": {},
   "source": [
    "# In this small script I want to Automat File Eextraction (*.zip)\n",
    "Where I have list of dir for fonts \n",
    "- (https://www.1001fonts.com/handwritten+script+cursive+signature+homework-fonts.html)\n",
    "- (https://fonts.google.com/?category=Handwriting&subset=latin-ext&stylecount=1&noto.lang=cs_Latn)"
   ]
  },
  {
   "cell_type": "code",
   "execution_count": 1,
   "id": "079d80df",
   "metadata": {},
   "outputs": [
    {
     "data": {
      "text/plain": [
       "'C:/Users/Mohammed/Downloads/data/English_fonts/out/'"
      ]
     },
     "execution_count": 1,
     "metadata": {},
     "output_type": "execute_result"
    }
   ],
   "source": [
    "# import lib\n",
    "import os\n",
    "from zipfile import ZipFile\n",
    "path = \"C:/Users/Mohammed/Downloads/data/English_fonts\"\n",
    "# Get the list of all files and directories\n",
    "dir_list = os.listdir(path)\n",
    "print(len(dir_list))\n",
    "parent_dir = path+'/out/'\n",
    "parent_dir"
   ]
  },
  {
   "cell_type": "code",
   "execution_count": 2,
   "id": "c9891abb",
   "metadata": {},
   "outputs": [],
   "source": [
    "# path = os.path.join(parent_dir, filename)"
   ]
  },
  {
   "cell_type": "code",
   "execution_count": 3,
   "id": "7b3b488e",
   "metadata": {},
   "outputs": [
    {
     "data": {
      "text/plain": [
       "'cherishline-demo'"
      ]
     },
     "execution_count": 3,
     "metadata": {},
     "output_type": "execute_result"
    }
   ],
   "source": [
    "# Test how to extract noly filename or removing an extention\n",
    "filename = 'cherishline-demo.zip'\n",
    "os.path.splitext(filename)[0]"
   ]
  },
  {
   "cell_type": "code",
   "execution_count": null,
   "id": "43a7ab43",
   "metadata": {},
   "outputs": [],
   "source": [
    "Extract files depending on case we want "
   ]
  },
  {
   "cell_type": "code",
   "execution_count": 4,
   "id": "902e0dce",
   "metadata": {},
   "outputs": [],
   "source": [
    "def main(case = 1):\n",
    "    c = 0\n",
    "    for filename in dir_list:\n",
    "        if filename.endswith(\".zip\"):\n",
    "            c +=  1\n",
    "            if case ==1:\n",
    "                # Create a ZipFile Object and load sample.zip in it\n",
    "                with ZipFile(filename, 'r') as zipObj:\n",
    "                   # Extract all the contents of zip file in current directory\n",
    "                   zipObj.extractall()\n",
    "\n",
    "\n",
    "            elif case == 2:\n",
    "                with ZipFile(filename, 'r') as zipObj:\n",
    "                   # Extract all the contents of zip file in different directory\n",
    "                   zipObj.extractall(os.path.join(parent_dir, os.path.splitext(filename)[0]))\n",
    "                    \n",
    "                    \n",
    "            else :\n",
    "                with ZipFile('filename', 'r') as zipObj:\n",
    "                   listOfFileNames = zipObj.namelist()\n",
    "                   # Iterate over the file names\n",
    "                   for fileName in listOfFileNames:\n",
    "                       # Check filename endswith csv\n",
    "                       if fileName.endswith('.csv'):\n",
    "                           # Extract a single file from zip\n",
    "                           zipObj.extract(filename, 'temp_csv')\n",
    "                        \n",
    "    print('number of extracted files : ',  c)"
   ]
  },
  {
   "cell_type": "code",
   "execution_count": 5,
   "id": "aca99d63",
   "metadata": {},
   "outputs": [
    {
     "name": "stdout",
     "output_type": "stream",
     "text": [
      "number of extracted files :  159\n"
     ]
    }
   ],
   "source": [
    "if __name__ == '__main__':\n",
    "   main(2)"
   ]
  },
  {
   "cell_type": "markdown",
   "id": "48c787df",
   "metadata": {},
   "source": [
    "# Delete (Remove) Files and Directories after Extracted "
   ]
  },
  {
   "cell_type": "code",
   "execution_count": 6,
   "id": "a4391b96",
   "metadata": {},
   "outputs": [
    {
     "name": "stdout",
     "output_type": "stream",
     "text": [
      "['cherishline-demo.zip', 'cinthia-signature.zip']\n"
     ]
    }
   ],
   "source": [
    "for filename in dir_list:\n",
    "        if filename.endswith(\".zip\"):\n",
    "            os.remove(filename)"
   ]
  },
  {
   "cell_type": "code",
   "execution_count": null,
   "id": "340a86bd",
   "metadata": {},
   "outputs": [],
   "source": []
  }
 ],
 "metadata": {
  "kernelspec": {
   "display_name": "Python 3 (ipykernel)",
   "language": "python",
   "name": "python3"
  },
  "language_info": {
   "codemirror_mode": {
    "name": "ipython",
    "version": 3
   },
   "file_extension": ".py",
   "mimetype": "text/x-python",
   "name": "python",
   "nbconvert_exporter": "python",
   "pygments_lexer": "ipython3",
   "version": "3.9.7"
  }
 },
 "nbformat": 4,
 "nbformat_minor": 5
}
