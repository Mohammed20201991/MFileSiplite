{
 "cells": [
  {
   "cell_type": "raw",
   "id": "60ba7368",
   "metadata": {},
   "source": [
    "In this Notebook we have input text file(Hungarain Corpus) with  long length for lines, what we do:\n",
    "    - read this text line by line and do normlization for it and then break lines by spesfic length \n",
    "    - save results as text file (target make file like brown corpus)"
   ]
  },
  {
   "cell_type": "code",
   "execution_count": 30,
   "id": "5cb9b5a8",
   "metadata": {},
   "outputs": [],
   "source": [
    "import re\n",
    "import random\n",
    "import pandas as pd"
   ]
  },
  {
   "cell_type": "markdown",
   "id": "0e33c74a",
   "metadata": {},
   "source": [
    "#  1:  Read a File Line by Line using for loop and list comprehension\n",
    "## 1.0 : Vitulize data text using Pandas befor process"
   ]
  },
  {
   "cell_type": "code",
   "execution_count": 31,
   "id": "aaac1dca",
   "metadata": {},
   "outputs": [
    {
     "data": {
      "text/html": [
       "<div>\n",
       "<style scoped>\n",
       "    .dataframe tbody tr th:only-of-type {\n",
       "        vertical-align: middle;\n",
       "    }\n",
       "\n",
       "    .dataframe tbody tr th {\n",
       "        vertical-align: top;\n",
       "    }\n",
       "\n",
       "    .dataframe thead th {\n",
       "        text-align: right;\n",
       "    }\n",
       "</style>\n",
       "<table border=\"1\" class=\"dataframe\">\n",
       "  <thead>\n",
       "    <tr style=\"text-align: right;\">\n",
       "      <th></th>\n",
       "      <th>text</th>\n",
       "      <th>1</th>\n",
       "      <th>2</th>\n",
       "      <th>3</th>\n",
       "      <th>4</th>\n",
       "      <th>5</th>\n",
       "      <th>6</th>\n",
       "      <th>7</th>\n",
       "      <th>8</th>\n",
       "      <th>9</th>\n",
       "      <th>...</th>\n",
       "      <th>30</th>\n",
       "      <th>31</th>\n",
       "      <th>32</th>\n",
       "      <th>33</th>\n",
       "      <th>34</th>\n",
       "      <th>35</th>\n",
       "      <th>36</th>\n",
       "      <th>37</th>\n",
       "      <th>38</th>\n",
       "      <th>39</th>\n",
       "    </tr>\n",
       "  </thead>\n",
       "  <tbody>\n",
       "    <tr>\n",
       "      <th>0</th>\n",
       "      <td>Aminek 160-as a csöve, az jó lehet.</td>\n",
       "      <td>NaN</td>\n",
       "      <td>NaN</td>\n",
       "      <td>NaN</td>\n",
       "      <td>NaN</td>\n",
       "      <td>NaN</td>\n",
       "      <td>NaN</td>\n",
       "      <td>NaN</td>\n",
       "      <td>NaN</td>\n",
       "      <td>NaN</td>\n",
       "      <td>...</td>\n",
       "      <td>NaN</td>\n",
       "      <td>NaN</td>\n",
       "      <td>NaN</td>\n",
       "      <td>NaN</td>\n",
       "      <td>NaN</td>\n",
       "      <td>NaN</td>\n",
       "      <td>NaN</td>\n",
       "      <td>NaN</td>\n",
       "      <td>NaN</td>\n",
       "      <td>NaN</td>\n",
       "    </tr>\n",
       "    <tr>\n",
       "      <th>1</th>\n",
       "      <td>Amit én javasolnék, az a Hit Line 67 cm széles...</td>\n",
       "      <td>NaN</td>\n",
       "      <td>NaN</td>\n",
       "      <td>NaN</td>\n",
       "      <td>NaN</td>\n",
       "      <td>NaN</td>\n",
       "      <td>NaN</td>\n",
       "      <td>NaN</td>\n",
       "      <td>NaN</td>\n",
       "      <td>NaN</td>\n",
       "      <td>...</td>\n",
       "      <td>NaN</td>\n",
       "      <td>NaN</td>\n",
       "      <td>NaN</td>\n",
       "      <td>NaN</td>\n",
       "      <td>NaN</td>\n",
       "      <td>NaN</td>\n",
       "      <td>NaN</td>\n",
       "      <td>NaN</td>\n",
       "      <td>NaN</td>\n",
       "      <td>NaN</td>\n",
       "    </tr>\n",
       "    <tr>\n",
       "      <th>2</th>\n",
       "      <td>Ebben az esetben is a visszafojtott üzemmód je...</td>\n",
       "      <td>NaN</td>\n",
       "      <td>NaN</td>\n",
       "      <td>NaN</td>\n",
       "      <td>NaN</td>\n",
       "      <td>NaN</td>\n",
       "      <td>NaN</td>\n",
       "      <td>NaN</td>\n",
       "      <td>NaN</td>\n",
       "      <td>NaN</td>\n",
       "      <td>...</td>\n",
       "      <td>NaN</td>\n",
       "      <td>NaN</td>\n",
       "      <td>NaN</td>\n",
       "      <td>NaN</td>\n",
       "      <td>NaN</td>\n",
       "      <td>NaN</td>\n",
       "      <td>NaN</td>\n",
       "      <td>NaN</td>\n",
       "      <td>NaN</td>\n",
       "      <td>NaN</td>\n",
       "    </tr>\n",
       "    <tr>\n",
       "      <th>3</th>\n",
       "      <td>Ha mindehhez a samottbélést lecseréljük kerámi...</td>\n",
       "      <td>NaN</td>\n",
       "      <td>NaN</td>\n",
       "      <td>NaN</td>\n",
       "      <td>NaN</td>\n",
       "      <td>NaN</td>\n",
       "      <td>NaN</td>\n",
       "      <td>NaN</td>\n",
       "      <td>NaN</td>\n",
       "      <td>NaN</td>\n",
       "      <td>...</td>\n",
       "      <td>NaN</td>\n",
       "      <td>NaN</td>\n",
       "      <td>NaN</td>\n",
       "      <td>NaN</td>\n",
       "      <td>NaN</td>\n",
       "      <td>NaN</td>\n",
       "      <td>NaN</td>\n",
       "      <td>NaN</td>\n",
       "      <td>NaN</td>\n",
       "      <td>NaN</td>\n",
       "    </tr>\n",
       "    <tr>\n",
       "      <th>4</th>\n",
       "      <td>Ezekkel a módosításokkal még mindig Taranis ár...</td>\n",
       "      <td>NaN</td>\n",
       "      <td>NaN</td>\n",
       "      <td>NaN</td>\n",
       "      <td>NaN</td>\n",
       "      <td>NaN</td>\n",
       "      <td>NaN</td>\n",
       "      <td>NaN</td>\n",
       "      <td>NaN</td>\n",
       "      <td>NaN</td>\n",
       "      <td>...</td>\n",
       "      <td>NaN</td>\n",
       "      <td>NaN</td>\n",
       "      <td>NaN</td>\n",
       "      <td>NaN</td>\n",
       "      <td>NaN</td>\n",
       "      <td>NaN</td>\n",
       "      <td>NaN</td>\n",
       "      <td>NaN</td>\n",
       "      <td>NaN</td>\n",
       "      <td>NaN</td>\n",
       "    </tr>\n",
       "  </tbody>\n",
       "</table>\n",
       "<p>5 rows × 40 columns</p>\n",
       "</div>"
      ],
      "text/plain": [
       "                                                text    1    2    3    4    5  \\\n",
       "0                Aminek 160-as a csöve, az jó lehet.  NaN  NaN  NaN  NaN  NaN   \n",
       "1  Amit én javasolnék, az a Hit Line 67 cm széles...  NaN  NaN  NaN  NaN  NaN   \n",
       "2  Ebben az esetben is a visszafojtott üzemmód je...  NaN  NaN  NaN  NaN  NaN   \n",
       "3  Ha mindehhez a samottbélést lecseréljük kerámi...  NaN  NaN  NaN  NaN  NaN   \n",
       "4  Ezekkel a módosításokkal még mindig Taranis ár...  NaN  NaN  NaN  NaN  NaN   \n",
       "\n",
       "     6    7    8    9  ...   30   31   32   33   34   35   36   37   38   39  \n",
       "0  NaN  NaN  NaN  NaN  ...  NaN  NaN  NaN  NaN  NaN  NaN  NaN  NaN  NaN  NaN  \n",
       "1  NaN  NaN  NaN  NaN  ...  NaN  NaN  NaN  NaN  NaN  NaN  NaN  NaN  NaN  NaN  \n",
       "2  NaN  NaN  NaN  NaN  ...  NaN  NaN  NaN  NaN  NaN  NaN  NaN  NaN  NaN  NaN  \n",
       "3  NaN  NaN  NaN  NaN  ...  NaN  NaN  NaN  NaN  NaN  NaN  NaN  NaN  NaN  NaN  \n",
       "4  NaN  NaN  NaN  NaN  ...  NaN  NaN  NaN  NaN  NaN  NaN  NaN  NaN  NaN  NaN  \n",
       "\n",
       "[5 rows x 40 columns]"
      ]
     },
     "execution_count": 31,
     "metadata": {},
     "output_type": "execute_result"
    }
   ],
   "source": [
    "path = '/home/ngyongyossy/mohammad/Data/Hu_corpus/MFileSiplite/data/'\n",
    "fname= 'split_18.txt'\n",
    "df = pd.read_fwf(f'{path}Input/{fname}', header=None)\n",
    "df.rename(columns={0: \"text\"}, inplace=True)\n",
    "# del df[1] \n",
    "# del df[2]\n",
    "# del df[3]\n",
    "# del df[4]\n",
    "# del df[5]\n",
    "# del df[6]\n",
    "df.head()"
   ]
  },
  {
   "cell_type": "code",
   "execution_count": 32,
   "id": "189e49ee",
   "metadata": {},
   "outputs": [
    {
     "data": {
      "text/html": [
       "<div>\n",
       "<style scoped>\n",
       "    .dataframe tbody tr th:only-of-type {\n",
       "        vertical-align: middle;\n",
       "    }\n",
       "\n",
       "    .dataframe tbody tr th {\n",
       "        vertical-align: top;\n",
       "    }\n",
       "\n",
       "    .dataframe thead th {\n",
       "        text-align: right;\n",
       "    }\n",
       "</style>\n",
       "<table border=\"1\" class=\"dataframe\">\n",
       "  <thead>\n",
       "    <tr style=\"text-align: right;\">\n",
       "      <th></th>\n",
       "      <th>text</th>\n",
       "      <th>1</th>\n",
       "      <th>2</th>\n",
       "      <th>3</th>\n",
       "      <th>4</th>\n",
       "      <th>5</th>\n",
       "      <th>6</th>\n",
       "      <th>7</th>\n",
       "      <th>8</th>\n",
       "      <th>9</th>\n",
       "      <th>...</th>\n",
       "      <th>30</th>\n",
       "      <th>31</th>\n",
       "      <th>32</th>\n",
       "      <th>33</th>\n",
       "      <th>34</th>\n",
       "      <th>35</th>\n",
       "      <th>36</th>\n",
       "      <th>37</th>\n",
       "      <th>38</th>\n",
       "      <th>39</th>\n",
       "    </tr>\n",
       "  </thead>\n",
       "  <tbody>\n",
       "    <tr>\n",
       "      <th>count</th>\n",
       "      <td>4834750</td>\n",
       "      <td>175190</td>\n",
       "      <td>146712</td>\n",
       "      <td>144238</td>\n",
       "      <td>142222</td>\n",
       "      <td>118322</td>\n",
       "      <td>135866</td>\n",
       "      <td>133274</td>\n",
       "      <td>130629</td>\n",
       "      <td>129217</td>\n",
       "      <td>...</td>\n",
       "      <td>93422</td>\n",
       "      <td>92761</td>\n",
       "      <td>91823</td>\n",
       "      <td>89539</td>\n",
       "      <td>88349</td>\n",
       "      <td>86006</td>\n",
       "      <td>84861</td>\n",
       "      <td>84055</td>\n",
       "      <td>82946</td>\n",
       "      <td>82373</td>\n",
       "    </tr>\n",
       "    <tr>\n",
       "      <th>unique</th>\n",
       "      <td>3827781</td>\n",
       "      <td>172062</td>\n",
       "      <td>66423</td>\n",
       "      <td>37153</td>\n",
       "      <td>138404</td>\n",
       "      <td>134</td>\n",
       "      <td>86225</td>\n",
       "      <td>84903</td>\n",
       "      <td>12784</td>\n",
       "      <td>12801</td>\n",
       "      <td>...</td>\n",
       "      <td>2079</td>\n",
       "      <td>11128</td>\n",
       "      <td>87068</td>\n",
       "      <td>46920</td>\n",
       "      <td>85246</td>\n",
       "      <td>45686</td>\n",
       "      <td>10765</td>\n",
       "      <td>45079</td>\n",
       "      <td>2022</td>\n",
       "      <td>10528</td>\n",
       "    </tr>\n",
       "    <tr>\n",
       "      <th>top</th>\n",
       "      <td>Felhasználási feltételek</td>\n",
       "      <td>.</td>\n",
       "      <td>hogy</td>\n",
       "      <td>és</td>\n",
       "      <td>.</td>\n",
       "      <td>e</td>\n",
       "      <td>.</td>\n",
       "      <td>.</td>\n",
       "      <td>a</td>\n",
       "      <td>a</td>\n",
       "      <td>...</td>\n",
       "      <td>a</td>\n",
       "      <td>a</td>\n",
       "      <td>.</td>\n",
       "      <td>hogy</td>\n",
       "      <td>.</td>\n",
       "      <td>hogy</td>\n",
       "      <td>a</td>\n",
       "      <td>hogy</td>\n",
       "      <td>a</td>\n",
       "      <td>a</td>\n",
       "    </tr>\n",
       "    <tr>\n",
       "      <th>freq</th>\n",
       "      <td>8230</td>\n",
       "      <td>426</td>\n",
       "      <td>538</td>\n",
       "      <td>470</td>\n",
       "      <td>317</td>\n",
       "      <td>11423</td>\n",
       "      <td>293</td>\n",
       "      <td>299</td>\n",
       "      <td>1243</td>\n",
       "      <td>1149</td>\n",
       "      <td>...</td>\n",
       "      <td>3070</td>\n",
       "      <td>868</td>\n",
       "      <td>141</td>\n",
       "      <td>328</td>\n",
       "      <td>149</td>\n",
       "      <td>295</td>\n",
       "      <td>750</td>\n",
       "      <td>283</td>\n",
       "      <td>2710</td>\n",
       "      <td>745</td>\n",
       "    </tr>\n",
       "  </tbody>\n",
       "</table>\n",
       "<p>4 rows × 40 columns</p>\n",
       "</div>"
      ],
      "text/plain": [
       "                            text       1       2       3       4       5  \\\n",
       "count                    4834750  175190  146712  144238  142222  118322   \n",
       "unique                   3827781  172062   66423   37153  138404     134   \n",
       "top     Felhasználási feltételek       .    hogy      és       .       e   \n",
       "freq                        8230     426     538     470     317   11423   \n",
       "\n",
       "             6       7       8       9  ...     30     31     32     33  \\\n",
       "count   135866  133274  130629  129217  ...  93422  92761  91823  89539   \n",
       "unique   86225   84903   12784   12801  ...   2079  11128  87068  46920   \n",
       "top          .       .       a       a  ...      a      a      .   hogy   \n",
       "freq       293     299    1243    1149  ...   3070    868    141    328   \n",
       "\n",
       "           34     35     36     37     38     39  \n",
       "count   88349  86006  84861  84055  82946  82373  \n",
       "unique  85246  45686  10765  45079   2022  10528  \n",
       "top         .   hogy      a   hogy      a      a  \n",
       "freq      149    295    750    283   2710    745  \n",
       "\n",
       "[4 rows x 40 columns]"
      ]
     },
     "execution_count": 32,
     "metadata": {},
     "output_type": "execute_result"
    }
   ],
   "source": [
    "df.describe()"
   ]
  },
  {
   "cell_type": "code",
   "execution_count": 33,
   "id": "2a3cb015",
   "metadata": {},
   "outputs": [
    {
     "name": "stdout",
     "output_type": "stream",
     "text": [
      "<class 'pandas.core.frame.DataFrame'>\n",
      "RangeIndex: 5000001 entries, 0 to 5000000\n",
      "Data columns (total 40 columns):\n",
      "text    object\n",
      "1       object\n",
      "2       object\n",
      "3       object\n",
      "4       object\n",
      "5       object\n",
      "6       object\n",
      "7       object\n",
      "8       object\n",
      "9       object\n",
      "10      object\n",
      "11      object\n",
      "12      object\n",
      "13      object\n",
      "14      object\n",
      "15      object\n",
      "16      object\n",
      "17      object\n",
      "18      object\n",
      "19      object\n",
      "20      object\n",
      "21      object\n",
      "22      object\n",
      "23      object\n",
      "24      object\n",
      "25      object\n",
      "26      object\n",
      "27      object\n",
      "28      object\n",
      "29      object\n",
      "30      object\n",
      "31      object\n",
      "32      object\n",
      "33      object\n",
      "34      object\n",
      "35      object\n",
      "36      object\n",
      "37      object\n",
      "38      object\n",
      "39      object\n",
      "dtypes: object(40)\n",
      "memory usage: 1.5+ GB\n"
     ]
    }
   ],
   "source": [
    "df.info()"
   ]
  },
  {
   "cell_type": "code",
   "execution_count": 34,
   "id": "eed99be3",
   "metadata": {},
   "outputs": [
    {
     "data": {
      "text/plain": [
       "'Aminek 160-as a csöve, az jó lehet.'"
      ]
     },
     "execution_count": 34,
     "metadata": {},
     "output_type": "execute_result"
    }
   ],
   "source": [
    "df['text'][0]"
   ]
  },
  {
   "cell_type": "code",
   "execution_count": 35,
   "id": "4126ed2b",
   "metadata": {},
   "outputs": [
    {
     "name": "stdout",
     "output_type": "stream",
     "text": [
      "Aminek 160-as a csöve, az jó lehet.\n"
     ]
    }
   ],
   "source": [
    "# removing the new line characters\n",
    "with open(f'{path}Input/{fname}', 'r', encoding='utf-8') as f:\n",
    "    lines = [line.rstrip() for line in f]\n",
    "print(lines[0]) \n",
    "# [str1,str2,....., str_n]"
   ]
  },
  {
   "cell_type": "code",
   "execution_count": 36,
   "id": "801084e9",
   "metadata": {},
   "outputs": [
    {
     "data": {
      "text/plain": [
       "'játék kisk...'"
      ]
     },
     "execution_count": 36,
     "metadata": {},
     "output_type": "execute_result"
    }
   ],
   "source": [
    "lines[-1]"
   ]
  },
  {
   "cell_type": "markdown",
   "id": "08392c71",
   "metadata": {},
   "source": [
    "# 1.1 : Normlization "
   ]
  },
  {
   "cell_type": "code",
   "execution_count": 37,
   "id": "c7c888c6",
   "metadata": {},
   "outputs": [],
   "source": [
    "def normlized_text(line):\n",
    "    result1 = re.sub(r'[ ► (  )  •  ©  @  …  ~  😀  >  <  `  !  _ { } + * ]', ' ', line)\n",
    "#     Q: url (remove word after ??!!) not matter if you remove it \n",
    "    return re.sub(r'https?://\\S+', '', result1)\n",
    "# str ---> str "
   ]
  },
  {
   "cell_type": "code",
   "execution_count": 38,
   "id": "279fe59f",
   "metadata": {},
   "outputs": [],
   "source": [
    "words_lists = []\n",
    "def sents_to_words(line):\n",
    "        normlized_line = normlized_text(line)\n",
    "#         print(normlized_line)\n",
    "        words = normlized_line.split()\n",
    "        words_lists.append(words)\n",
    "#         return ()\n",
    "# line: str --> words[]:list\n",
    "# words_lists[words1['w1','w2',....,'w_n'],words2['w1','w2',....,'w_n'],words3['w1','w2',....,'w_n'] ....words_n['w1','w2',....,'w_n']]"
   ]
  },
  {
   "cell_type": "code",
   "execution_count": 39,
   "id": "a4c02fee",
   "metadata": {},
   "outputs": [],
   "source": [
    "# print(sents_to_words('Az iskolai erإ‘szakrأ³l https://www.geeksforgeeks.org/read-a-file-line-by-line-in-python/ nyilatkozأ³knak csak a fele أ©rzi, hogy gyermeke biztonsأ،gban van az iskolأ،ban.')) # ,lines[-1])\n",
    "# test \n",
    "# sents_to_words(lines[-1])"
   ]
  },
  {
   "cell_type": "code",
   "execution_count": 40,
   "id": "36261bac",
   "metadata": {},
   "outputs": [],
   "source": [
    "# call fun to normlize & convert to words lists \n",
    "for line in lines:\n",
    "    normlized_line = sents_to_words(line)"
   ]
  },
  {
   "cell_type": "code",
   "execution_count": 41,
   "id": "3b29f8f4",
   "metadata": {},
   "outputs": [
    {
     "data": {
      "text/plain": [
       "(5000001,)"
      ]
     },
     "execution_count": 41,
     "metadata": {},
     "output_type": "execute_result"
    }
   ],
   "source": [
    "a = len(words_lists) , # see the length befor removing empty lines \n",
    "a"
   ]
  },
  {
   "cell_type": "code",
   "execution_count": 42,
   "id": "cef89d14",
   "metadata": {},
   "outputs": [
    {
     "data": {
      "text/plain": [
       "4834750"
      ]
     },
     "execution_count": 42,
     "metadata": {},
     "output_type": "execute_result"
    }
   ],
   "source": [
    "# Remove empty list if exists caused by empty line e.g : [[1, 2], [1], [], [1, 2, 3, 4]] ==> [[1, 2], [1], [1, 2, 3, 4]]\n",
    "words_lists = [x for x in words_lists if x]\n",
    "b = len(words_lists)  # see the length after removing empty lines \n",
    "b"
   ]
  },
  {
   "cell_type": "code",
   "execution_count": 43,
   "id": "a09e9b33",
   "metadata": {},
   "outputs": [
    {
     "name": "stdout",
     "output_type": "stream",
     "text": [
      "Removed Empty Lines :  165251\n"
     ]
    }
   ],
   "source": [
    "print('Removed Empty Lines : ', a[0]-b)"
   ]
  },
  {
   "attachments": {},
   "cell_type": "markdown",
   "id": "ac63634c",
   "metadata": {},
   "source": [
    "# 1.2 : Issue removing word after url if  there is no space after"
   ]
  },
  {
   "cell_type": "code",
   "execution_count": 44,
   "id": "749a7ecc",
   "metadata": {},
   "outputs": [
    {
     "name": "stdout",
     "output_type": "stream",
     "text": [
      "Belfأ¶ld -  hأ­rei   Elأ gedetlenek az emberek a kأ¶zoktatأ،ssal?\n"
     ]
    }
   ],
   "source": [
    "# test normlize function with Hu\n",
    "print(normlized_text('Belfأ¶ld - https://www.geeksforgeeks.org/read-a-file-line-by-line-in-python/Magyarorszأ،g hأ\\xadrei > Elأ©gedetlenek az emberek a kأ¶zoktatأ،ssal?'))"
   ]
  },
  {
   "cell_type": "code",
   "execution_count": 45,
   "id": "dd25b148",
   "metadata": {},
   "outputs": [
    {
     "name": "stdout",
     "output_type": "stream",
     "text": [
      " Fulton County Grand Jury said Friday an investigation of Atlanta's recent primary election produced \"no evidence\" that any irregularities took place.\n"
     ]
    }
   ],
   "source": [
    "# test normlize function with En\n",
    "print(normlized_text('https://www.geeksforgeeks.org/read-a-file-line-by-line-in-python/The Fulton County Grand Jury said Friday an investigation of Atlanta\\'s recent primary election produced \"no evidence\" that any irregularities took place.'))"
   ]
  },
  {
   "cell_type": "code",
   "execution_count": 46,
   "id": "77f30e43",
   "metadata": {},
   "outputs": [
    {
     "name": "stdout",
     "output_type": "stream",
     "text": [
      "Aminek\n",
      "160-as\n",
      "a\n",
      "csöve,\n",
      "az\n",
      "jó\n",
      "lehet.\n"
     ]
    }
   ],
   "source": [
    "# words_lists[words1[W1,W2,....,W_n],words2 [W1,W2,....,W_n],...,words_n[W1,W2,....,W_n]]   : test one elment from word list \n",
    "for words in words_lists[0]:\n",
    "    print(words)"
   ]
  },
  {
   "cell_type": "code",
   "execution_count": 47,
   "id": "7bd0746f",
   "metadata": {},
   "outputs": [],
   "source": [
    "# from   [words1[W1,W2,....,W_n],words2 [W1,W2,....,W_n],...,words_n[W1,W2,....,W_n]]\n",
    "# to     flat_list[W1,W2,....,W_n]"
   ]
  },
  {
   "cell_type": "code",
   "execution_count": 48,
   "id": "36261cf9",
   "metadata": {},
   "outputs": [],
   "source": [
    "# Her we have one list contians all words \n",
    "# if you have limited memoey you have to find a way like sipliting to chunk (in case local machine with 8GB there is limitation only with 1 milleion )\n",
    "# flat_list_chunk1 = [word for sublist in words_lists[:1000000] for word in sublist]\n",
    "# flat_list_chunk2 = [word for sublist in words_lists[1000000:2000000] for word in sublist]\n",
    "# flat_list_chunk3 = [word for sublist in words_lists[2000000:3000000] for word in sublist]\n",
    "# flat_list_chunk4 = [word for sublist in words_lists[3000000:4000000] for word in sublist]\n",
    "# flat_list_chunk5 = [word for sublist in words_lists[2000000:3000000] for word in sublist]\n",
    "# CONCATENATE THEM\n",
    "# flat_list = flat_list_chunk1 + flat_list_chunk2 + flat_list_chunk3 + flat_list_chunk4 +flat_list_chunk5\n",
    "flat_list = [word for sublist in words_lists for word in sublist]"
   ]
  },
  {
   "cell_type": "code",
   "execution_count": 49,
   "id": "e35e0253",
   "metadata": {},
   "outputs": [
    {
     "data": {
      "text/plain": [
       "'kisk...'"
      ]
     },
     "execution_count": 49,
     "metadata": {},
     "output_type": "execute_result"
    }
   ],
   "source": [
    "flat_list[-1]"
   ]
  },
  {
   "cell_type": "markdown",
   "id": "0725012b",
   "metadata": {},
   "source": [
    "# 2: Break a words of list into chunks of size N using List comprehension "
   ]
  },
  {
   "cell_type": "raw",
   "id": "0924334b",
   "metadata": {},
   "source": [
    "flat_list[W1,W2,....,W_n]  -->  final[[w1,w2,...,w10 or w11],[w12,..., w20],   [...]]"
   ]
  },
  {
   "cell_type": "code",
   "execution_count": 50,
   "id": "dde42127",
   "metadata": {},
   "outputs": [
    {
     "name": "stdout",
     "output_type": "stream",
     "text": [
      "The length of resulting lines  9\n",
      "['okos', 'vásár...', 'kiadvány', 's...', 'weboldal', 'e...', 'egyéni', 'uta...', 'könnyebb']\n"
     ]
    }
   ],
   "source": [
    "# We choose random length for line \n",
    "n = random.randint(8, 9)\n",
    "print('The length of resulting lines ',n)\n",
    "# using list comprehension\n",
    "# final = [flat_list[i * n:(i + 1) * n] for i in range((len(flat_list) + n - 1) // n )]\n",
    "final = [flat_list[i:i + n] for i in range(0, len(flat_list), n)]     # alternative  to line above \n",
    "print (final[-2])"
   ]
  },
  {
   "cell_type": "markdown",
   "id": "95c49c5a",
   "metadata": {},
   "source": [
    "# 2.1 : Save results to txt file "
   ]
  },
  {
   "cell_type": "code",
   "execution_count": 51,
   "id": "be23b235",
   "metadata": {},
   "outputs": [
    {
     "name": "stdout",
     "output_type": "stream",
     "text": [
      "The Expacted number of liens  12030330\n"
     ]
    }
   ],
   "source": [
    "print('The Expacted number of liens ',len(final))\n",
    "with open(f'{path}out/out_{fname}','w' ,encoding='utf-8') as file:\n",
    "    for items in final:\n",
    "        for item in items:        \n",
    "            file.write(f\"{item} \")\n",
    "        file.write(\"\\n\")\n",
    "file.close()"
   ]
  },
  {
   "attachments": {},
   "cell_type": "markdown",
   "id": "0d31355d",
   "metadata": {},
   "source": [
    "# 2.2 : Vitulize text file after processing "
   ]
  },
  {
   "cell_type": "code",
   "execution_count": 52,
   "id": "81dbb178",
   "metadata": {},
   "outputs": [
    {
     "data": {
      "text/html": [
       "<div>\n",
       "<style scoped>\n",
       "    .dataframe tbody tr th:only-of-type {\n",
       "        vertical-align: middle;\n",
       "    }\n",
       "\n",
       "    .dataframe tbody tr th {\n",
       "        vertical-align: top;\n",
       "    }\n",
       "\n",
       "    .dataframe thead th {\n",
       "        text-align: right;\n",
       "    }\n",
       "</style>\n",
       "<table border=\"1\" class=\"dataframe\">\n",
       "  <thead>\n",
       "    <tr style=\"text-align: right;\">\n",
       "      <th></th>\n",
       "      <th>text</th>\n",
       "      <th>1</th>\n",
       "    </tr>\n",
       "  </thead>\n",
       "  <tbody>\n",
       "    <tr>\n",
       "      <th>0</th>\n",
       "      <td>Aminek 160-as a csöve, az jó lehet. Amit én</td>\n",
       "      <td>NaN</td>\n",
       "    </tr>\n",
       "    <tr>\n",
       "      <th>1</th>\n",
       "      <td>javasolnék, az a Hit Line 67 cm széles, 44</td>\n",
       "      <td>NaN</td>\n",
       "    </tr>\n",
       "    <tr>\n",
       "      <th>2</th>\n",
       "      <td>cm magas, de dupla üveges változata. A dupla üveg</td>\n",
       "      <td>NaN</td>\n",
       "    </tr>\n",
       "    <tr>\n",
       "      <th>3</th>\n",
       "      <td>mindenképpen fontos lenne, mert lényegesen csö...</td>\n",
       "      <td>NaN</td>\n",
       "    </tr>\n",
       "    <tr>\n",
       "      <th>4</th>\n",
       "      <td>mennyiségét a nappaliban, illetve ugyanennyive...</td>\n",
       "      <td>NaN</td>\n",
       "    </tr>\n",
       "  </tbody>\n",
       "</table>\n",
       "</div>"
      ],
      "text/plain": [
       "                                                text    1\n",
       "0        Aminek 160-as a csöve, az jó lehet. Amit én  NaN\n",
       "1         javasolnék, az a Hit Line 67 cm széles, 44  NaN\n",
       "2  cm magas, de dupla üveges változata. A dupla üveg  NaN\n",
       "3  mindenképpen fontos lenne, mert lényegesen csö...  NaN\n",
       "4  mennyiségét a nappaliban, illetve ugyanennyive...  NaN"
      ]
     },
     "execution_count": 52,
     "metadata": {},
     "output_type": "execute_result"
    }
   ],
   "source": [
    "# path = 'out_split_1.txt'\n",
    "df = pd.read_fwf(f'{path}out/out_{fname}', header=None)\n",
    "df.rename(columns={0: \"text\"}, inplace=True)\n",
    "# del df[1] \n",
    "# del df[2]\n",
    "# del df[3]\n",
    "# del df[4]\n",
    "# del df[5]\n",
    "# del df[6]\n",
    "# del df[7]\n",
    "# del df[8]\n",
    "# del df[9]\n",
    "# del df[10]\n",
    "df.head()"
   ]
  },
  {
   "cell_type": "code",
   "execution_count": 53,
   "id": "1e5cdd34",
   "metadata": {},
   "outputs": [
    {
     "data": {
      "text/html": [
       "<div>\n",
       "<style scoped>\n",
       "    .dataframe tbody tr th:only-of-type {\n",
       "        vertical-align: middle;\n",
       "    }\n",
       "\n",
       "    .dataframe tbody tr th {\n",
       "        vertical-align: top;\n",
       "    }\n",
       "\n",
       "    .dataframe thead th {\n",
       "        text-align: right;\n",
       "    }\n",
       "</style>\n",
       "<table border=\"1\" class=\"dataframe\">\n",
       "  <thead>\n",
       "    <tr style=\"text-align: right;\">\n",
       "      <th></th>\n",
       "      <th>text</th>\n",
       "      <th>1</th>\n",
       "    </tr>\n",
       "  </thead>\n",
       "  <tbody>\n",
       "    <tr>\n",
       "      <th>count</th>\n",
       "      <td>12030330</td>\n",
       "      <td>84719</td>\n",
       "    </tr>\n",
       "    <tr>\n",
       "      <th>unique</th>\n",
       "      <td>11550664</td>\n",
       "      <td>124</td>\n",
       "    </tr>\n",
       "    <tr>\n",
       "      <th>top</th>\n",
       "      <td>E G Y Z Ő K Ö N Y</td>\n",
       "      <td>e</td>\n",
       "    </tr>\n",
       "    <tr>\n",
       "      <th>freq</th>\n",
       "      <td>528</td>\n",
       "      <td>6988</td>\n",
       "    </tr>\n",
       "  </tbody>\n",
       "</table>\n",
       "</div>"
      ],
      "text/plain": [
       "                     text      1\n",
       "count            12030330  84719\n",
       "unique           11550664    124\n",
       "top     E G Y Z Ő K Ö N Y      e\n",
       "freq                  528   6988"
      ]
     },
     "execution_count": 53,
     "metadata": {},
     "output_type": "execute_result"
    }
   ],
   "source": [
    "df.describe()"
   ]
  },
  {
   "cell_type": "code",
   "execution_count": 54,
   "id": "50d686b4",
   "metadata": {},
   "outputs": [
    {
     "name": "stdout",
     "output_type": "stream",
     "text": [
      "<class 'pandas.core.frame.DataFrame'>\n",
      "RangeIndex: 12030330 entries, 0 to 12030329\n",
      "Data columns (total 2 columns):\n",
      "text    object\n",
      "1       object\n",
      "dtypes: object(2)\n",
      "memory usage: 183.6+ MB\n"
     ]
    }
   ],
   "source": [
    "df.info()"
   ]
  },
  {
   "cell_type": "code",
   "execution_count": 55,
   "id": "85b21d08",
   "metadata": {},
   "outputs": [
    {
     "data": {
      "text/plain": [
       "'Aminek 160-as a csöve, az jó lehet. Amit én'"
      ]
     },
     "execution_count": 55,
     "metadata": {},
     "output_type": "execute_result"
    }
   ],
   "source": [
    "df['text'] [0]"
   ]
  },
  {
   "cell_type": "code",
   "execution_count": 56,
   "id": "60c3e601",
   "metadata": {},
   "outputs": [],
   "source": [
    "# with open('newnewnew.txt' ,encoding='utf-8') as f:\n",
    "#     lines = [line for line in f]\n",
    "# print(len(lines),'\\n')\n",
    "# # removing the new line characters\n",
    "# with open('out_split_1.txt.txt' ,encoding='utf-8') as f:\n",
    "#     lines = [line.rstrip() for line in f]\n",
    "# print(lines)"
   ]
  }
 ],
 "metadata": {
  "kernelspec": {
   "display_name": "Python 3",
   "language": "python",
   "name": "python3"
  },
  "language_info": {
   "codemirror_mode": {
    "name": "ipython",
    "version": 3
   },
   "file_extension": ".py",
   "mimetype": "text/x-python",
   "name": "python",
   "nbconvert_exporter": "python",
   "pygments_lexer": "ipython3",
   "version": "3.8.10"
  },
  "vscode": {
   "interpreter": {
    "hash": "e7370f93d1d0cde622a1f8e1c04877d8463912d04d973331ad4851f04de6915a"
   }
  }
 },
 "nbformat": 4,
 "nbformat_minor": 5
}
