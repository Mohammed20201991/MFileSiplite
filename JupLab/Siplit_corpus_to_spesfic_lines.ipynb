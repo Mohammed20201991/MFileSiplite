{
 "cells": [
  {
   "cell_type": "raw",
   "id": "60ba7368",
   "metadata": {},
   "source": [
    "In this Notebook we have input text file(Hungarain Corpus) with  long length for lines, what we do:\n",
    "    - read this text line by line and do normlization for it and then break lines by spesfic length \n",
    "    - save results as text file (target make file like brown corpus)"
   ]
  },
  {
   "cell_type": "code",
   "execution_count": 1,
   "id": "5cb9b5a8",
   "metadata": {},
   "outputs": [],
   "source": [
    "import re\n",
    "import random\n",
    "import pandas as pd"
   ]
  },
  {
   "cell_type": "markdown",
   "id": "0e33c74a",
   "metadata": {},
   "source": [
    "#  1:  Read a File Line by Line using for loop and list comprehension\n",
    "## 1.0 : Vitulize data text using Pandas befor process"
   ]
  },
  {
   "cell_type": "code",
   "execution_count": 2,
   "id": "aaac1dca",
   "metadata": {},
   "outputs": [
    {
     "data": {
      "text/html": [
       "<div>\n",
       "<style scoped>\n",
       "    .dataframe tbody tr th:only-of-type {\n",
       "        vertical-align: middle;\n",
       "    }\n",
       "\n",
       "    .dataframe tbody tr th {\n",
       "        vertical-align: top;\n",
       "    }\n",
       "\n",
       "    .dataframe thead th {\n",
       "        text-align: right;\n",
       "    }\n",
       "</style>\n",
       "<table border=\"1\" class=\"dataframe\">\n",
       "  <thead>\n",
       "    <tr style=\"text-align: right;\">\n",
       "      <th></th>\n",
       "      <th>text</th>\n",
       "      <th>1</th>\n",
       "      <th>2</th>\n",
       "      <th>3</th>\n",
       "      <th>4</th>\n",
       "      <th>5</th>\n",
       "      <th>6</th>\n",
       "      <th>7</th>\n",
       "      <th>8</th>\n",
       "      <th>9</th>\n",
       "      <th>...</th>\n",
       "      <th>28</th>\n",
       "      <th>29</th>\n",
       "      <th>30</th>\n",
       "      <th>31</th>\n",
       "      <th>32</th>\n",
       "      <th>33</th>\n",
       "      <th>34</th>\n",
       "      <th>35</th>\n",
       "      <th>36</th>\n",
       "      <th>37</th>\n",
       "    </tr>\n",
       "  </thead>\n",
       "  <tbody>\n",
       "    <tr>\n",
       "      <th>0</th>\n",
       "      <td>Nem ismerem A BIZOTTSÁG működési rendjét, de g...</td>\n",
       "      <td>NaN</td>\n",
       "      <td>NaN</td>\n",
       "      <td>NaN</td>\n",
       "      <td>NaN</td>\n",
       "      <td>NaN</td>\n",
       "      <td>NaN</td>\n",
       "      <td>NaN</td>\n",
       "      <td>NaN</td>\n",
       "      <td>NaN</td>\n",
       "      <td>...</td>\n",
       "      <td>NaN</td>\n",
       "      <td>NaN</td>\n",
       "      <td>NaN</td>\n",
       "      <td>NaN</td>\n",
       "      <td>NaN</td>\n",
       "      <td>NaN</td>\n",
       "      <td>NaN</td>\n",
       "      <td>NaN</td>\n",
       "      <td>NaN</td>\n",
       "      <td>NaN</td>\n",
       "    </tr>\n",
       "    <tr>\n",
       "      <th>1</th>\n",
       "      <td>Másfelől az is lehet, hogy tényleg bizottságos...</td>\n",
       "      <td>NaN</td>\n",
       "      <td>NaN</td>\n",
       "      <td>NaN</td>\n",
       "      <td>NaN</td>\n",
       "      <td>NaN</td>\n",
       "      <td>NaN</td>\n",
       "      <td>NaN</td>\n",
       "      <td>NaN</td>\n",
       "      <td>NaN</td>\n",
       "      <td>...</td>\n",
       "      <td>NaN</td>\n",
       "      <td>NaN</td>\n",
       "      <td>NaN</td>\n",
       "      <td>NaN</td>\n",
       "      <td>NaN</td>\n",
       "      <td>NaN</td>\n",
       "      <td>NaN</td>\n",
       "      <td>NaN</td>\n",
       "      <td>NaN</td>\n",
       "      <td>NaN</td>\n",
       "    </tr>\n",
       "    <tr>\n",
       "      <th>2</th>\n",
       "      <td>Elnézést ha valami érzékenységet sértek a vitr...</td>\n",
       "      <td>NaN</td>\n",
       "      <td>NaN</td>\n",
       "      <td>NaN</td>\n",
       "      <td>NaN</td>\n",
       "      <td>NaN</td>\n",
       "      <td>NaN</td>\n",
       "      <td>NaN</td>\n",
       "      <td>NaN</td>\n",
       "      <td>NaN</td>\n",
       "      <td>...</td>\n",
       "      <td>NaN</td>\n",
       "      <td>NaN</td>\n",
       "      <td>NaN</td>\n",
       "      <td>NaN</td>\n",
       "      <td>NaN</td>\n",
       "      <td>NaN</td>\n",
       "      <td>NaN</td>\n",
       "      <td>NaN</td>\n",
       "      <td>NaN</td>\n",
       "      <td>NaN</td>\n",
       "    </tr>\n",
       "    <tr>\n",
       "      <th>3</th>\n",
       "      <td>Felesleges allap[szerkesztés]</td>\n",
       "      <td>NaN</td>\n",
       "      <td>NaN</td>\n",
       "      <td>NaN</td>\n",
       "      <td>NaN</td>\n",
       "      <td>NaN</td>\n",
       "      <td>NaN</td>\n",
       "      <td>NaN</td>\n",
       "      <td>NaN</td>\n",
       "      <td>NaN</td>\n",
       "      <td>...</td>\n",
       "      <td>NaN</td>\n",
       "      <td>NaN</td>\n",
       "      <td>NaN</td>\n",
       "      <td>NaN</td>\n",
       "      <td>NaN</td>\n",
       "      <td>NaN</td>\n",
       "      <td>NaN</td>\n",
       "      <td>NaN</td>\n",
       "      <td>NaN</td>\n",
       "      <td>NaN</td>\n",
       "    </tr>\n",
       "    <tr>\n",
       "      <th>4</th>\n",
       "      <td>Nagykötőjel[szerkesztés]</td>\n",
       "      <td>NaN</td>\n",
       "      <td>NaN</td>\n",
       "      <td>NaN</td>\n",
       "      <td>NaN</td>\n",
       "      <td>NaN</td>\n",
       "      <td>NaN</td>\n",
       "      <td>NaN</td>\n",
       "      <td>NaN</td>\n",
       "      <td>NaN</td>\n",
       "      <td>...</td>\n",
       "      <td>NaN</td>\n",
       "      <td>NaN</td>\n",
       "      <td>NaN</td>\n",
       "      <td>NaN</td>\n",
       "      <td>NaN</td>\n",
       "      <td>NaN</td>\n",
       "      <td>NaN</td>\n",
       "      <td>NaN</td>\n",
       "      <td>NaN</td>\n",
       "      <td>NaN</td>\n",
       "    </tr>\n",
       "  </tbody>\n",
       "</table>\n",
       "<p>5 rows × 38 columns</p>\n",
       "</div>"
      ],
      "text/plain": [
       "                                                text    1    2    3    4    5  \\\n",
       "0  Nem ismerem A BIZOTTSÁG működési rendjét, de g...  NaN  NaN  NaN  NaN  NaN   \n",
       "1  Másfelől az is lehet, hogy tényleg bizottságos...  NaN  NaN  NaN  NaN  NaN   \n",
       "2  Elnézést ha valami érzékenységet sértek a vitr...  NaN  NaN  NaN  NaN  NaN   \n",
       "3                      Felesleges allap[szerkesztés]  NaN  NaN  NaN  NaN  NaN   \n",
       "4                           Nagykötőjel[szerkesztés]  NaN  NaN  NaN  NaN  NaN   \n",
       "\n",
       "     6    7    8    9  ...   28   29   30   31   32   33   34   35   36   37  \n",
       "0  NaN  NaN  NaN  NaN  ...  NaN  NaN  NaN  NaN  NaN  NaN  NaN  NaN  NaN  NaN  \n",
       "1  NaN  NaN  NaN  NaN  ...  NaN  NaN  NaN  NaN  NaN  NaN  NaN  NaN  NaN  NaN  \n",
       "2  NaN  NaN  NaN  NaN  ...  NaN  NaN  NaN  NaN  NaN  NaN  NaN  NaN  NaN  NaN  \n",
       "3  NaN  NaN  NaN  NaN  ...  NaN  NaN  NaN  NaN  NaN  NaN  NaN  NaN  NaN  NaN  \n",
       "4  NaN  NaN  NaN  NaN  ...  NaN  NaN  NaN  NaN  NaN  NaN  NaN  NaN  NaN  NaN  \n",
       "\n",
       "[5 rows x 38 columns]"
      ]
     },
     "execution_count": 2,
     "metadata": {},
     "output_type": "execute_result"
    }
   ],
   "source": [
    "path = '/home/ngyongyossy/mohammad/Data/Hu_corpus/MFileSiplite/data/'\n",
    "fname= 'split_27.txt'\n",
    "df = pd.read_fwf(f'{path}Input/{fname}', header=None)\n",
    "df.rename(columns={0: \"text\"}, inplace=True)\n",
    "# del df[1] \n",
    "# del df[2]\n",
    "# del df[3]\n",
    "# del df[4]\n",
    "# del df[5]\n",
    "# del df[6]\n",
    "df.head()"
   ]
  },
  {
   "cell_type": "code",
   "execution_count": 3,
   "id": "189e49ee",
   "metadata": {},
   "outputs": [
    {
     "data": {
      "text/html": [
       "<div>\n",
       "<style scoped>\n",
       "    .dataframe tbody tr th:only-of-type {\n",
       "        vertical-align: middle;\n",
       "    }\n",
       "\n",
       "    .dataframe tbody tr th {\n",
       "        vertical-align: top;\n",
       "    }\n",
       "\n",
       "    .dataframe thead th {\n",
       "        text-align: right;\n",
       "    }\n",
       "</style>\n",
       "<table border=\"1\" class=\"dataframe\">\n",
       "  <thead>\n",
       "    <tr style=\"text-align: right;\">\n",
       "      <th></th>\n",
       "      <th>text</th>\n",
       "      <th>1</th>\n",
       "      <th>2</th>\n",
       "      <th>3</th>\n",
       "      <th>4</th>\n",
       "      <th>5</th>\n",
       "      <th>6</th>\n",
       "      <th>7</th>\n",
       "      <th>8</th>\n",
       "      <th>9</th>\n",
       "      <th>...</th>\n",
       "      <th>28</th>\n",
       "      <th>29</th>\n",
       "      <th>30</th>\n",
       "      <th>31</th>\n",
       "      <th>32</th>\n",
       "      <th>33</th>\n",
       "      <th>34</th>\n",
       "      <th>35</th>\n",
       "      <th>36</th>\n",
       "      <th>37</th>\n",
       "    </tr>\n",
       "  </thead>\n",
       "  <tbody>\n",
       "    <tr>\n",
       "      <th>count</th>\n",
       "      <td>4797513</td>\n",
       "      <td>81938</td>\n",
       "      <td>70923</td>\n",
       "      <td>59360</td>\n",
       "      <td>55721</td>\n",
       "      <td>49646</td>\n",
       "      <td>47324</td>\n",
       "      <td>46907</td>\n",
       "      <td>46663</td>\n",
       "      <td>46410</td>\n",
       "      <td>...</td>\n",
       "      <td>35647</td>\n",
       "      <td>35410</td>\n",
       "      <td>35183</td>\n",
       "      <td>34346</td>\n",
       "      <td>34049</td>\n",
       "      <td>33652</td>\n",
       "      <td>33382</td>\n",
       "      <td>33021</td>\n",
       "      <td>32788</td>\n",
       "      <td>32538</td>\n",
       "    </tr>\n",
       "    <tr>\n",
       "      <th>unique</th>\n",
       "      <td>3809857</td>\n",
       "      <td>80962</td>\n",
       "      <td>70213</td>\n",
       "      <td>58809</td>\n",
       "      <td>55226</td>\n",
       "      <td>49256</td>\n",
       "      <td>19078</td>\n",
       "      <td>1687</td>\n",
       "      <td>1685</td>\n",
       "      <td>46007</td>\n",
       "      <td>...</td>\n",
       "      <td>15951</td>\n",
       "      <td>15851</td>\n",
       "      <td>34998</td>\n",
       "      <td>22723</td>\n",
       "      <td>31535</td>\n",
       "      <td>22435</td>\n",
       "      <td>29340</td>\n",
       "      <td>15067</td>\n",
       "      <td>21870</td>\n",
       "      <td>26206</td>\n",
       "    </tr>\n",
       "    <tr>\n",
       "      <th>top</th>\n",
       "      <td>Felhasználási feltételek</td>\n",
       "      <td>.</td>\n",
       "      <td>.</td>\n",
       "      <td>.</td>\n",
       "      <td>.</td>\n",
       "      <td>.</td>\n",
       "      <td>nem</td>\n",
       "      <td>a</td>\n",
       "      <td>a</td>\n",
       "      <td>.</td>\n",
       "      <td>...</td>\n",
       "      <td>az</td>\n",
       "      <td>az</td>\n",
       "      <td>.</td>\n",
       "      <td>hogy</td>\n",
       "      <td>.</td>\n",
       "      <td>hogy</td>\n",
       "      <td>, hogy</td>\n",
       "      <td>és</td>\n",
       "      <td>hogy</td>\n",
       "      <td>hogy</td>\n",
       "    </tr>\n",
       "    <tr>\n",
       "      <th>freq</th>\n",
       "      <td>8800</td>\n",
       "      <td>175</td>\n",
       "      <td>108</td>\n",
       "      <td>89</td>\n",
       "      <td>96</td>\n",
       "      <td>59</td>\n",
       "      <td>157</td>\n",
       "      <td>1546</td>\n",
       "      <td>1548</td>\n",
       "      <td>50</td>\n",
       "      <td>...</td>\n",
       "      <td>118</td>\n",
       "      <td>133</td>\n",
       "      <td>27</td>\n",
       "      <td>95</td>\n",
       "      <td>37</td>\n",
       "      <td>91</td>\n",
       "      <td>38</td>\n",
       "      <td>120</td>\n",
       "      <td>89</td>\n",
       "      <td>54</td>\n",
       "    </tr>\n",
       "  </tbody>\n",
       "</table>\n",
       "<p>4 rows × 38 columns</p>\n",
       "</div>"
      ],
      "text/plain": [
       "                            text      1      2      3      4      5      6  \\\n",
       "count                    4797513  81938  70923  59360  55721  49646  47324   \n",
       "unique                   3809857  80962  70213  58809  55226  49256  19078   \n",
       "top     Felhasználási feltételek      .      .      .      .      .    nem   \n",
       "freq                        8800    175    108     89     96     59    157   \n",
       "\n",
       "            7      8      9  ...     28     29     30     31     32     33  \\\n",
       "count   46907  46663  46410  ...  35647  35410  35183  34346  34049  33652   \n",
       "unique   1687   1685  46007  ...  15951  15851  34998  22723  31535  22435   \n",
       "top         a      a      .  ...     az     az      .   hogy      .   hogy   \n",
       "freq     1546   1548     50  ...    118    133     27     95     37     91   \n",
       "\n",
       "            34     35     36     37  \n",
       "count    33382  33021  32788  32538  \n",
       "unique   29340  15067  21870  26206  \n",
       "top     , hogy     és   hogy   hogy  \n",
       "freq        38    120     89     54  \n",
       "\n",
       "[4 rows x 38 columns]"
      ]
     },
     "execution_count": 3,
     "metadata": {},
     "output_type": "execute_result"
    }
   ],
   "source": [
    "df.describe()"
   ]
  },
  {
   "cell_type": "code",
   "execution_count": 4,
   "id": "2a3cb015",
   "metadata": {},
   "outputs": [
    {
     "name": "stdout",
     "output_type": "stream",
     "text": [
      "<class 'pandas.core.frame.DataFrame'>\n",
      "RangeIndex: 5000001 entries, 0 to 5000000\n",
      "Data columns (total 38 columns):\n",
      "text    object\n",
      "1       object\n",
      "2       object\n",
      "3       object\n",
      "4       object\n",
      "5       object\n",
      "6       object\n",
      "7       object\n",
      "8       object\n",
      "9       object\n",
      "10      object\n",
      "11      object\n",
      "12      object\n",
      "13      object\n",
      "14      object\n",
      "15      object\n",
      "16      object\n",
      "17      object\n",
      "18      object\n",
      "19      object\n",
      "20      object\n",
      "21      object\n",
      "22      object\n",
      "23      object\n",
      "24      object\n",
      "25      object\n",
      "26      object\n",
      "27      object\n",
      "28      object\n",
      "29      object\n",
      "30      object\n",
      "31      object\n",
      "32      object\n",
      "33      object\n",
      "34      object\n",
      "35      object\n",
      "36      object\n",
      "37      object\n",
      "dtypes: object(38)\n",
      "memory usage: 1.4+ GB\n"
     ]
    }
   ],
   "source": [
    "df.info()"
   ]
  },
  {
   "cell_type": "code",
   "execution_count": 5,
   "id": "eed99be3",
   "metadata": {},
   "outputs": [
    {
     "data": {
      "text/plain": [
       "\"Nem ismerem A BIZOTTSÁG működési rendjét, de gyanúm szerint a kettő ugyanaz. Mármint eléjük tesznek egy valaki által előkészített papírt ők meg felemelik a kezüket. Legalábbis a '91-es határozatban lévő teljes képtelenség (Orosz F.) nem utal valami alapos döntéselőkészítésre.\""
      ]
     },
     "execution_count": 5,
     "metadata": {},
     "output_type": "execute_result"
    }
   ],
   "source": [
    "df['text'][0]"
   ]
  },
  {
   "cell_type": "code",
   "execution_count": 6,
   "id": "4126ed2b",
   "metadata": {},
   "outputs": [
    {
     "name": "stdout",
     "output_type": "stream",
     "text": [
      "Nem ismerem A BIZOTTSÁG működési rendjét, de gyanúm szerint a kettő ugyanaz. Mármint eléjük tesznek egy valaki által előkészített papírt ők meg felemelik a kezüket. Legalábbis a '91-es határozatban lévő teljes képtelenség (Orosz F.) nem utal valami alapos döntéselőkészítésre.\n"
     ]
    }
   ],
   "source": [
    "# removing the new line characters\n",
    "with open(f'{path}Input/{fname}', 'r', encoding='utf-8') as f:\n",
    "    lines = [line.rstrip() for line in f]\n",
    "print(lines[0]) \n",
    "# [str1,str2,....., str_n]"
   ]
  },
  {
   "cell_type": "code",
   "execution_count": 7,
   "id": "801084e9",
   "metadata": {},
   "outputs": [
    {
     "data": {
      "text/plain": [
       "'– A ForestVisit látogatottságszámláló eszköz a fejlesztőnél a 06 20 984 6124-es telefonszámon vagy a forestvisit.hu honlapon ismerhető meg. A telepítést mindig megelőzi egy személyes helyszíni konzultáció, ahol felmérjük a telepítés körülményeit, és konzultálunk az adatok felhasználásával kapcsolatos igényekről. Akit érdekelnek a módszerben rejlő lehetőségek, az a ForestVisit DEMÓ bemutatóoldalon, fiktív adatokkal már most megnézheti, hogy milyen hasznos információk nyerhetők a látogatásszámláló alkalmazásával.'"
      ]
     },
     "execution_count": 7,
     "metadata": {},
     "output_type": "execute_result"
    }
   ],
   "source": [
    "lines[-1]"
   ]
  },
  {
   "cell_type": "markdown",
   "id": "08392c71",
   "metadata": {},
   "source": [
    "# 1.1 : Normlization "
   ]
  },
  {
   "cell_type": "code",
   "execution_count": 8,
   "id": "c7c888c6",
   "metadata": {},
   "outputs": [],
   "source": [
    "def normlized_text(line):\n",
    "    result1 = re.sub(r'[ ► (  )  •  ©  @  …  ~  😀  >  <  `  !  _ { } + * ]', ' ', line)\n",
    "#     Q: url (remove word after ??!!) not matter if you remove it \n",
    "    return re.sub(r'https?://\\S+', '', result1)\n",
    "# str ---> str "
   ]
  },
  {
   "cell_type": "code",
   "execution_count": 9,
   "id": "279fe59f",
   "metadata": {},
   "outputs": [],
   "source": [
    "words_lists = []\n",
    "def sents_to_words(line):\n",
    "        normlized_line = normlized_text(line)\n",
    "#         print(normlized_line)\n",
    "        words = normlized_line.split()\n",
    "        words_lists.append(words)\n",
    "#         return ()\n",
    "# line: str --> words[]:list\n",
    "# words_lists[words1['w1','w2',....,'w_n'],words2['w1','w2',....,'w_n'],words3['w1','w2',....,'w_n'] ....words_n['w1','w2',....,'w_n']]"
   ]
  },
  {
   "cell_type": "code",
   "execution_count": 10,
   "id": "a4c02fee",
   "metadata": {},
   "outputs": [],
   "source": [
    "# print(sents_to_words('Az iskolai erإ‘szakrأ³l https://www.geeksforgeeks.org/read-a-file-line-by-line-in-python/ nyilatkozأ³knak csak a fele أ©rzi, hogy gyermeke biztonsأ،gban van az iskolأ،ban.')) # ,lines[-1])\n",
    "# test \n",
    "# sents_to_words(lines[-1])"
   ]
  },
  {
   "cell_type": "code",
   "execution_count": 11,
   "id": "36261bac",
   "metadata": {},
   "outputs": [],
   "source": [
    "# call fun to normlize & convert to words lists \n",
    "for line in lines:\n",
    "    normlized_line = sents_to_words(line)"
   ]
  },
  {
   "cell_type": "code",
   "execution_count": 12,
   "id": "3b29f8f4",
   "metadata": {},
   "outputs": [
    {
     "data": {
      "text/plain": [
       "(5000001,)"
      ]
     },
     "execution_count": 12,
     "metadata": {},
     "output_type": "execute_result"
    }
   ],
   "source": [
    "a = len(words_lists) , # see the length befor removing empty lines \n",
    "a"
   ]
  },
  {
   "cell_type": "code",
   "execution_count": 13,
   "id": "cef89d14",
   "metadata": {},
   "outputs": [
    {
     "data": {
      "text/plain": [
       "4797513"
      ]
     },
     "execution_count": 13,
     "metadata": {},
     "output_type": "execute_result"
    }
   ],
   "source": [
    "# Remove empty list if exists caused by empty line e.g : [[1, 2], [1], [], [1, 2, 3, 4]] ==> [[1, 2], [1], [1, 2, 3, 4]]\n",
    "words_lists = [x for x in words_lists if x]\n",
    "b = len(words_lists)  # see the length after removing empty lines \n",
    "b"
   ]
  },
  {
   "cell_type": "code",
   "execution_count": 14,
   "id": "a09e9b33",
   "metadata": {},
   "outputs": [
    {
     "name": "stdout",
     "output_type": "stream",
     "text": [
      "Removed Empty Lines :  202488\n"
     ]
    }
   ],
   "source": [
    "print('Removed Empty Lines : ', a[0]-b)"
   ]
  },
  {
   "attachments": {},
   "cell_type": "markdown",
   "id": "ac63634c",
   "metadata": {},
   "source": [
    "# 1.2 : Issue removing word after url if  there is no space after"
   ]
  },
  {
   "cell_type": "code",
   "execution_count": 15,
   "id": "749a7ecc",
   "metadata": {},
   "outputs": [
    {
     "name": "stdout",
     "output_type": "stream",
     "text": [
      "Belfأ¶ld -  hأ­rei   Elأ gedetlenek az emberek a kأ¶zoktatأ،ssal?\n"
     ]
    }
   ],
   "source": [
    "# test normlize function with Hu\n",
    "print(normlized_text('Belfأ¶ld - https://www.geeksforgeeks.org/read-a-file-line-by-line-in-python/Magyarorszأ،g hأ\\xadrei > Elأ©gedetlenek az emberek a kأ¶zoktatأ،ssal?'))"
   ]
  },
  {
   "cell_type": "code",
   "execution_count": 16,
   "id": "dd25b148",
   "metadata": {},
   "outputs": [
    {
     "name": "stdout",
     "output_type": "stream",
     "text": [
      " Fulton County Grand Jury said Friday an investigation of Atlanta's recent primary election produced \"no evidence\" that any irregularities took place.\n"
     ]
    }
   ],
   "source": [
    "# test normlize function with En\n",
    "print(normlized_text('https://www.geeksforgeeks.org/read-a-file-line-by-line-in-python/The Fulton County Grand Jury said Friday an investigation of Atlanta\\'s recent primary election produced \"no evidence\" that any irregularities took place.'))"
   ]
  },
  {
   "cell_type": "code",
   "execution_count": 17,
   "id": "77f30e43",
   "metadata": {},
   "outputs": [
    {
     "name": "stdout",
     "output_type": "stream",
     "text": [
      "Nem\n",
      "ismerem\n",
      "A\n",
      "BIZOTTSÁG\n",
      "működési\n",
      "rendjét,\n",
      "de\n",
      "gyanúm\n",
      "szerint\n",
      "a\n",
      "kettő\n",
      "ugyanaz.\n",
      "Mármint\n",
      "eléjük\n",
      "tesznek\n",
      "egy\n",
      "valaki\n",
      "által\n",
      "előkészített\n",
      "papírt\n",
      "ők\n",
      "meg\n",
      "felemelik\n",
      "a\n",
      "kezüket.\n",
      "Legalábbis\n",
      "a\n",
      "'91-es\n",
      "határozatban\n",
      "lévő\n",
      "teljes\n",
      "képtelenség\n",
      "Orosz\n",
      "F.\n",
      "nem\n",
      "utal\n",
      "valami\n",
      "alapos\n",
      "döntéselőkészítésre.\n"
     ]
    }
   ],
   "source": [
    "# words_lists[words1[W1,W2,....,W_n],words2 [W1,W2,....,W_n],...,words_n[W1,W2,....,W_n]]   : test one elment from word list \n",
    "for words in words_lists[0]:\n",
    "    print(words)"
   ]
  },
  {
   "cell_type": "code",
   "execution_count": 18,
   "id": "7bd0746f",
   "metadata": {},
   "outputs": [],
   "source": [
    "# from   [words1[W1,W2,....,W_n],words2 [W1,W2,....,W_n],...,words_n[W1,W2,....,W_n]]\n",
    "# to     flat_list[W1,W2,....,W_n]"
   ]
  },
  {
   "cell_type": "code",
   "execution_count": 19,
   "id": "36261cf9",
   "metadata": {},
   "outputs": [],
   "source": [
    "# Her we have one list contians all words \n",
    "# if you have limited memoey you have to find a way like sipliting to chunk (in case local machine with 8GB there is limitation only with 1 milleion )\n",
    "# flat_list_chunk1 = [word for sublist in words_lists[:1000000] for word in sublist]\n",
    "# flat_list_chunk2 = [word for sublist in words_lists[1000000:2000000] for word in sublist]\n",
    "# flat_list_chunk3 = [word for sublist in words_lists[2000000:3000000] for word in sublist]\n",
    "# flat_list_chunk4 = [word for sublist in words_lists[3000000:4000000] for word in sublist]\n",
    "# flat_list_chunk5 = [word for sublist in words_lists[2000000:3000000] for word in sublist]\n",
    "# CONCATENATE THEM\n",
    "# flat_list = flat_list_chunk1 + flat_list_chunk2 + flat_list_chunk3 + flat_list_chunk4 +flat_list_chunk5\n",
    "flat_list = [word for sublist in words_lists for word in sublist]"
   ]
  },
  {
   "cell_type": "code",
   "execution_count": 20,
   "id": "e35e0253",
   "metadata": {},
   "outputs": [
    {
     "data": {
      "text/plain": [
       "'alkalmazásával.'"
      ]
     },
     "execution_count": 20,
     "metadata": {},
     "output_type": "execute_result"
    }
   ],
   "source": [
    "flat_list[-1]"
   ]
  },
  {
   "cell_type": "markdown",
   "id": "0725012b",
   "metadata": {},
   "source": [
    "# 2: Break a words of list into chunks of size N using List comprehension "
   ]
  },
  {
   "cell_type": "raw",
   "id": "0924334b",
   "metadata": {},
   "source": [
    "flat_list[W1,W2,....,W_n]  -->  final[[w1,w2,...,w10 or w11],[w12,..., w20],   [...]]"
   ]
  },
  {
   "cell_type": "code",
   "execution_count": 21,
   "id": "dde42127",
   "metadata": {},
   "outputs": [
    {
     "name": "stdout",
     "output_type": "stream",
     "text": [
      "The length of resulting lines  8\n",
      "['most', 'megnézheti,', 'hogy', 'milyen', 'hasznos', 'információk', 'nyerhetők', 'a']\n"
     ]
    }
   ],
   "source": [
    "# We choose random length for line \n",
    "n = random.randint(8, 9)\n",
    "print('The length of resulting lines ',n)\n",
    "# using list comprehension\n",
    "# final = [flat_list[i * n:(i + 1) * n] for i in range((len(flat_list) + n - 1) // n )]\n",
    "final = [flat_list[i:i + n] for i in range(0, len(flat_list), n)]     # alternative  to line above \n",
    "print (final[-2])"
   ]
  },
  {
   "cell_type": "markdown",
   "id": "95c49c5a",
   "metadata": {},
   "source": [
    "# 2.1 : Save results to txt file "
   ]
  },
  {
   "cell_type": "code",
   "execution_count": 22,
   "id": "be23b235",
   "metadata": {},
   "outputs": [
    {
     "name": "stdout",
     "output_type": "stream",
     "text": [
      "The Expacted number of liens  13157607\n"
     ]
    }
   ],
   "source": [
    "print('The Expacted number of liens ',len(final))\n",
    "with open(f'{path}out/out_{fname}','w' ,encoding='utf-8') as file:\n",
    "    for items in final:\n",
    "        for item in items:        \n",
    "            file.write(f\"{item} \")\n",
    "        file.write(\"\\n\")\n",
    "file.close()"
   ]
  },
  {
   "attachments": {},
   "cell_type": "markdown",
   "id": "0d31355d",
   "metadata": {},
   "source": [
    "# 2.2 : Vitulize text file after processing "
   ]
  },
  {
   "cell_type": "code",
   "execution_count": 23,
   "id": "81dbb178",
   "metadata": {},
   "outputs": [
    {
     "data": {
      "text/html": [
       "<div>\n",
       "<style scoped>\n",
       "    .dataframe tbody tr th:only-of-type {\n",
       "        vertical-align: middle;\n",
       "    }\n",
       "\n",
       "    .dataframe tbody tr th {\n",
       "        vertical-align: top;\n",
       "    }\n",
       "\n",
       "    .dataframe thead th {\n",
       "        text-align: right;\n",
       "    }\n",
       "</style>\n",
       "<table border=\"1\" class=\"dataframe\">\n",
       "  <thead>\n",
       "    <tr style=\"text-align: right;\">\n",
       "      <th></th>\n",
       "      <th>text</th>\n",
       "    </tr>\n",
       "  </thead>\n",
       "  <tbody>\n",
       "    <tr>\n",
       "      <th>0</th>\n",
       "      <td>Nem ismerem A BIZOTTSÁG működési rendjét, de g...</td>\n",
       "    </tr>\n",
       "    <tr>\n",
       "      <th>1</th>\n",
       "      <td>szerint a kettő ugyanaz. Mármint eléjük teszne...</td>\n",
       "    </tr>\n",
       "    <tr>\n",
       "      <th>2</th>\n",
       "      <td>valaki által előkészített papírt ők meg feleme...</td>\n",
       "    </tr>\n",
       "    <tr>\n",
       "      <th>3</th>\n",
       "      <td>kezüket. Legalábbis a '91-es határozatban lévő...</td>\n",
       "    </tr>\n",
       "    <tr>\n",
       "      <th>4</th>\n",
       "      <td>Orosz F. nem utal valami alapos döntéselőkészí...</td>\n",
       "    </tr>\n",
       "  </tbody>\n",
       "</table>\n",
       "</div>"
      ],
      "text/plain": [
       "                                                text\n",
       "0  Nem ismerem A BIZOTTSÁG működési rendjét, de g...\n",
       "1  szerint a kettő ugyanaz. Mármint eléjük teszne...\n",
       "2  valaki által előkészített papírt ők meg feleme...\n",
       "3  kezüket. Legalábbis a '91-es határozatban lévő...\n",
       "4  Orosz F. nem utal valami alapos döntéselőkészí..."
      ]
     },
     "execution_count": 23,
     "metadata": {},
     "output_type": "execute_result"
    }
   ],
   "source": [
    "# path = 'out_split_1.txt'\n",
    "df = pd.read_fwf(f'{path}out/out_{fname}', header=None)\n",
    "df.rename(columns={0: \"text\"}, inplace=True)\n",
    "# del df[1] \n",
    "# del df[2]\n",
    "# del df[3]\n",
    "# del df[4]\n",
    "# del df[5]\n",
    "# del df[6]\n",
    "# del df[7]\n",
    "# del df[8]\n",
    "# del df[9]\n",
    "# del df[10]\n",
    "df.head()"
   ]
  },
  {
   "cell_type": "code",
   "execution_count": 24,
   "id": "1e5cdd34",
   "metadata": {},
   "outputs": [
    {
     "data": {
      "text/html": [
       "<div>\n",
       "<style scoped>\n",
       "    .dataframe tbody tr th:only-of-type {\n",
       "        vertical-align: middle;\n",
       "    }\n",
       "\n",
       "    .dataframe tbody tr th {\n",
       "        vertical-align: top;\n",
       "    }\n",
       "\n",
       "    .dataframe thead th {\n",
       "        text-align: right;\n",
       "    }\n",
       "</style>\n",
       "<table border=\"1\" class=\"dataframe\">\n",
       "  <thead>\n",
       "    <tr style=\"text-align: right;\">\n",
       "      <th></th>\n",
       "      <th>text</th>\n",
       "    </tr>\n",
       "  </thead>\n",
       "  <tbody>\n",
       "    <tr>\n",
       "      <th>count</th>\n",
       "      <td>13157607</td>\n",
       "    </tr>\n",
       "    <tr>\n",
       "      <th>unique</th>\n",
       "      <td>12627917</td>\n",
       "    </tr>\n",
       "    <tr>\n",
       "      <th>top</th>\n",
       "      <td>J E G Y Z Ő K Ö</td>\n",
       "    </tr>\n",
       "    <tr>\n",
       "      <th>freq</th>\n",
       "      <td>490</td>\n",
       "    </tr>\n",
       "  </tbody>\n",
       "</table>\n",
       "</div>"
      ],
      "text/plain": [
       "                   text\n",
       "count          13157607\n",
       "unique         12627917\n",
       "top     J E G Y Z Ő K Ö\n",
       "freq                490"
      ]
     },
     "execution_count": 24,
     "metadata": {},
     "output_type": "execute_result"
    }
   ],
   "source": [
    "df.describe()"
   ]
  },
  {
   "cell_type": "code",
   "execution_count": 25,
   "id": "50d686b4",
   "metadata": {},
   "outputs": [
    {
     "name": "stdout",
     "output_type": "stream",
     "text": [
      "<class 'pandas.core.frame.DataFrame'>\n",
      "RangeIndex: 13157607 entries, 0 to 13157606\n",
      "Data columns (total 1 columns):\n",
      "text    object\n",
      "dtypes: object(1)\n",
      "memory usage: 100.4+ MB\n"
     ]
    }
   ],
   "source": [
    "df.info()"
   ]
  },
  {
   "cell_type": "code",
   "execution_count": 26,
   "id": "85b21d08",
   "metadata": {},
   "outputs": [
    {
     "data": {
      "text/plain": [
       "'Nem ismerem A BIZOTTSÁG működési rendjét, de gyanúm'"
      ]
     },
     "execution_count": 26,
     "metadata": {},
     "output_type": "execute_result"
    }
   ],
   "source": [
    "df['text'] [0]"
   ]
  },
  {
   "cell_type": "code",
   "execution_count": 27,
   "id": "60c3e601",
   "metadata": {},
   "outputs": [],
   "source": [
    "# with open('newnewnew.txt' ,encoding='utf-8') as f:\n",
    "#     lines = [line for line in f]\n",
    "# print(len(lines),'\\n')\n",
    "# # removing the new line characters\n",
    "# with open('out_split_1.txt.txt' ,encoding='utf-8') as f:\n",
    "#     lines = [line.rstrip() for line in f]\n",
    "# print(lines)"
   ]
  }
 ],
 "metadata": {
  "kernelspec": {
   "display_name": "Python 3",
   "language": "python",
   "name": "python3"
  },
  "language_info": {
   "codemirror_mode": {
    "name": "ipython",
    "version": 3
   },
   "file_extension": ".py",
   "mimetype": "text/x-python",
   "name": "python",
   "nbconvert_exporter": "python",
   "pygments_lexer": "ipython3",
   "version": "3.8.10"
  },
  "vscode": {
   "interpreter": {
    "hash": "e7370f93d1d0cde622a1f8e1c04877d8463912d04d973331ad4851f04de6915a"
   }
  }
 },
 "nbformat": 4,
 "nbformat_minor": 5
}
