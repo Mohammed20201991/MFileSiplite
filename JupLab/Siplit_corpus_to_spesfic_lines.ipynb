{
 "cells": [
  {
   "cell_type": "raw",
   "id": "60ba7368",
   "metadata": {},
   "source": [
    "In this Notebook we have input text file(Hungarain Corpus) with  long length for lines, what we do:\n",
    "    - read this text line by line and do normlization for it and then break lines by spesfic length \n",
    "    - save results as text file (target make file like brown corpus)"
   ]
  },
  {
   "cell_type": "code",
   "execution_count": 1,
   "id": "5cb9b5a8",
   "metadata": {},
   "outputs": [],
   "source": [
    "import re\n",
    "import random\n",
    "import pandas as pd"
   ]
  },
  {
   "cell_type": "markdown",
   "id": "0e33c74a",
   "metadata": {},
   "source": [
    "#  1:  Read a File Line by Line using for loop and list comprehension\n",
    "## 1.0 : Vitulize data text using Pandas befor process"
   ]
  },
  {
   "cell_type": "code",
   "execution_count": 2,
   "id": "aaac1dca",
   "metadata": {},
   "outputs": [
    {
     "data": {
      "text/html": [
       "<div>\n",
       "<style scoped>\n",
       "    .dataframe tbody tr th:only-of-type {\n",
       "        vertical-align: middle;\n",
       "    }\n",
       "\n",
       "    .dataframe tbody tr th {\n",
       "        vertical-align: top;\n",
       "    }\n",
       "\n",
       "    .dataframe thead th {\n",
       "        text-align: right;\n",
       "    }\n",
       "</style>\n",
       "<table border=\"1\" class=\"dataframe\">\n",
       "  <thead>\n",
       "    <tr style=\"text-align: right;\">\n",
       "      <th></th>\n",
       "      <th>text</th>\n",
       "      <th>1</th>\n",
       "      <th>2</th>\n",
       "      <th>3</th>\n",
       "    </tr>\n",
       "  </thead>\n",
       "  <tbody>\n",
       "    <tr>\n",
       "      <th>0</th>\n",
       "      <td>Töltsd le ingyenes könyvemet!</td>\n",
       "      <td>NaN</td>\n",
       "      <td>NaN</td>\n",
       "      <td>NaN</td>\n",
       "    </tr>\n",
       "    <tr>\n",
       "      <th>1</th>\n",
       "      <td>Hová küldhetem?</td>\n",
       "      <td>NaN</td>\n",
       "      <td>NaN</td>\n",
       "      <td>NaN</td>\n",
       "    </tr>\n",
       "    <tr>\n",
       "      <th>2</th>\n",
       "      <td>A csillaggal* jelölt mezők kitöltése kötelező</td>\n",
       "      <td>NaN</td>\n",
       "      <td>NaN</td>\n",
       "      <td>NaN</td>\n",
       "    </tr>\n",
       "    <tr>\n",
       "      <th>3</th>\n",
       "      <td>Keresztnév *</td>\n",
       "      <td>NaN</td>\n",
       "      <td>NaN</td>\n",
       "      <td>NaN</td>\n",
       "    </tr>\n",
       "    <tr>\n",
       "      <th>4</th>\n",
       "      <td>Igen, elfogadom Adatvédelmi nyilatkozatot. *</td>\n",
       "      <td>NaN</td>\n",
       "      <td>NaN</td>\n",
       "      <td>NaN</td>\n",
       "    </tr>\n",
       "  </tbody>\n",
       "</table>\n",
       "</div>"
      ],
      "text/plain": [
       "                                            text    1    2    3\n",
       "0                  Töltsd le ingyenes könyvemet!  NaN  NaN  NaN\n",
       "1                                Hová küldhetem?  NaN  NaN  NaN\n",
       "2  A csillaggal* jelölt mezők kitöltése kötelező  NaN  NaN  NaN\n",
       "3                                   Keresztnév *  NaN  NaN  NaN\n",
       "4   Igen, elfogadom Adatvédelmi nyilatkozatot. *  NaN  NaN  NaN"
      ]
     },
     "execution_count": 2,
     "metadata": {},
     "output_type": "execute_result"
    }
   ],
   "source": [
    "path = '/home/ngyongyossy/mohammad/Data/Hu_corpus/MFileSiplite/data/'\n",
    "df = pd.read_fwf(f'{path}Input/split_8.txt', header=None)\n",
    "df.rename(columns={0: \"text\"}, inplace=True)\n",
    "# del df[1] \n",
    "# del df[2]\n",
    "# del df[3]\n",
    "# del df[4]\n",
    "# del df[5]\n",
    "# del df[6]\n",
    "df.head()"
   ]
  },
  {
   "cell_type": "code",
   "execution_count": 3,
   "id": "189e49ee",
   "metadata": {},
   "outputs": [
    {
     "data": {
      "text/html": [
       "<div>\n",
       "<style scoped>\n",
       "    .dataframe tbody tr th:only-of-type {\n",
       "        vertical-align: middle;\n",
       "    }\n",
       "\n",
       "    .dataframe tbody tr th {\n",
       "        vertical-align: top;\n",
       "    }\n",
       "\n",
       "    .dataframe thead th {\n",
       "        text-align: right;\n",
       "    }\n",
       "</style>\n",
       "<table border=\"1\" class=\"dataframe\">\n",
       "  <thead>\n",
       "    <tr style=\"text-align: right;\">\n",
       "      <th></th>\n",
       "      <th>text</th>\n",
       "      <th>1</th>\n",
       "      <th>2</th>\n",
       "      <th>3</th>\n",
       "    </tr>\n",
       "  </thead>\n",
       "  <tbody>\n",
       "    <tr>\n",
       "      <th>count</th>\n",
       "      <td>4861034</td>\n",
       "      <td>369707</td>\n",
       "      <td>362696</td>\n",
       "      <td>355815</td>\n",
       "    </tr>\n",
       "    <tr>\n",
       "      <th>unique</th>\n",
       "      <td>3795068</td>\n",
       "      <td>62141</td>\n",
       "      <td>61559</td>\n",
       "      <td>344601</td>\n",
       "    </tr>\n",
       "    <tr>\n",
       "      <th>top</th>\n",
       "      <td>Felhasználási feltételek</td>\n",
       "      <td>az</td>\n",
       "      <td>nem</td>\n",
       "      <td>.</td>\n",
       "    </tr>\n",
       "    <tr>\n",
       "      <th>freq</th>\n",
       "      <td>6472</td>\n",
       "      <td>1326</td>\n",
       "      <td>1272</td>\n",
       "      <td>1131</td>\n",
       "    </tr>\n",
       "  </tbody>\n",
       "</table>\n",
       "</div>"
      ],
      "text/plain": [
       "                            text       1       2       3\n",
       "count                    4861034  369707  362696  355815\n",
       "unique                   3795068   62141   61559  344601\n",
       "top     Felhasználási feltételek      az     nem       .\n",
       "freq                        6472    1326    1272    1131"
      ]
     },
     "execution_count": 3,
     "metadata": {},
     "output_type": "execute_result"
    }
   ],
   "source": [
    "df.describe()"
   ]
  },
  {
   "cell_type": "code",
   "execution_count": 4,
   "id": "2a3cb015",
   "metadata": {},
   "outputs": [
    {
     "name": "stdout",
     "output_type": "stream",
     "text": [
      "<class 'pandas.core.frame.DataFrame'>\n",
      "RangeIndex: 5000001 entries, 0 to 5000000\n",
      "Data columns (total 4 columns):\n",
      "text    object\n",
      "1       object\n",
      "2       object\n",
      "3       object\n",
      "dtypes: object(4)\n",
      "memory usage: 152.6+ MB\n"
     ]
    }
   ],
   "source": [
    "df.info()"
   ]
  },
  {
   "cell_type": "code",
   "execution_count": 5,
   "id": "eed99be3",
   "metadata": {},
   "outputs": [
    {
     "data": {
      "text/plain": [
       "'Töltsd le ingyenes könyvemet!'"
      ]
     },
     "execution_count": 5,
     "metadata": {},
     "output_type": "execute_result"
    }
   ],
   "source": [
    "df['text'][0]"
   ]
  },
  {
   "cell_type": "code",
   "execution_count": 6,
   "id": "4126ed2b",
   "metadata": {},
   "outputs": [
    {
     "name": "stdout",
     "output_type": "stream",
     "text": [
      "Töltsd le ingyenes könyvemet!\n"
     ]
    }
   ],
   "source": [
    "# removing the new line characters\n",
    "with open(f'{path}Input/split_8.txt', 'r', encoding='utf-8') as f:\n",
    "    lines = [line.rstrip() for line in f]\n",
    "print(lines[0]) \n",
    "# [str1,str2,....., str_n]"
   ]
  },
  {
   "cell_type": "code",
   "execution_count": 7,
   "id": "801084e9",
   "metadata": {},
   "outputs": [
    {
     "data": {
      "text/plain": [
       "'A digitális aláírás technológiája'"
      ]
     },
     "execution_count": 7,
     "metadata": {},
     "output_type": "execute_result"
    }
   ],
   "source": [
    "lines[-1]"
   ]
  },
  {
   "cell_type": "markdown",
   "id": "08392c71",
   "metadata": {},
   "source": [
    "# 1.1 : Normlization "
   ]
  },
  {
   "cell_type": "code",
   "execution_count": 8,
   "id": "c7c888c6",
   "metadata": {},
   "outputs": [],
   "source": [
    "def normlized_text(line):\n",
    "    result1 = re.sub(r'[ ► (  )  •  ©  @  …  ~  😀  >  <  `  !  _ { } + * ]', ' ', line)\n",
    "#     Q: url (remove word after ??!!) not matter if you remove it \n",
    "    return re.sub(r'https?://\\S+', '', result1)\n",
    "# str ---> str "
   ]
  },
  {
   "cell_type": "code",
   "execution_count": 9,
   "id": "279fe59f",
   "metadata": {},
   "outputs": [],
   "source": [
    "words_lists = []\n",
    "def sents_to_words(line):\n",
    "        normlized_line = normlized_text(line)\n",
    "#         print(normlized_line)\n",
    "        words = normlized_line.split()\n",
    "        words_lists.append(words)\n",
    "#         return ()\n",
    "# line: str --> words[]:list\n",
    "# words_lists[words1['w1','w2',....,'w_n'],words2['w1','w2',....,'w_n'],words3['w1','w2',....,'w_n'] ....words_n['w1','w2',....,'w_n']]"
   ]
  },
  {
   "cell_type": "code",
   "execution_count": 10,
   "id": "a4c02fee",
   "metadata": {},
   "outputs": [],
   "source": [
    "# print(sents_to_words('Az iskolai erإ‘szakrأ³l https://www.geeksforgeeks.org/read-a-file-line-by-line-in-python/ nyilatkozأ³knak csak a fele أ©rzi, hogy gyermeke biztonsأ،gban van az iskolأ،ban.')) # ,lines[-1])\n",
    "# test \n",
    "# sents_to_words(lines[-1])"
   ]
  },
  {
   "cell_type": "code",
   "execution_count": 11,
   "id": "36261bac",
   "metadata": {},
   "outputs": [],
   "source": [
    "# call fun to normlize & convert to words lists \n",
    "for line in lines:\n",
    "    normlized_line = sents_to_words(line)"
   ]
  },
  {
   "cell_type": "code",
   "execution_count": 12,
   "id": "3b29f8f4",
   "metadata": {},
   "outputs": [
    {
     "data": {
      "text/plain": [
       "(5000001,)"
      ]
     },
     "execution_count": 12,
     "metadata": {},
     "output_type": "execute_result"
    }
   ],
   "source": [
    "a = len(words_lists) , # see the length befor removing empty lines \n",
    "a"
   ]
  },
  {
   "cell_type": "code",
   "execution_count": 13,
   "id": "cef89d14",
   "metadata": {},
   "outputs": [
    {
     "data": {
      "text/plain": [
       "4861034"
      ]
     },
     "execution_count": 13,
     "metadata": {},
     "output_type": "execute_result"
    }
   ],
   "source": [
    "# Remove empty list if exists caused by empty line e.g : [[1, 2], [1], [], [1, 2, 3, 4]] ==> [[1, 2], [1], [1, 2, 3, 4]]\n",
    "words_lists = [x for x in words_lists if x]\n",
    "b = len(words_lists)  # see the length after removing empty lines \n",
    "b"
   ]
  },
  {
   "cell_type": "code",
   "execution_count": 14,
   "id": "a09e9b33",
   "metadata": {},
   "outputs": [
    {
     "name": "stdout",
     "output_type": "stream",
     "text": [
      "Removed Empty Lines :  138967\n"
     ]
    }
   ],
   "source": [
    "print('Removed Empty Lines : ', a[0]-b)"
   ]
  },
  {
   "attachments": {},
   "cell_type": "markdown",
   "id": "ac63634c",
   "metadata": {},
   "source": [
    "# 1.2 : Issue removing word after url if  there is no space after"
   ]
  },
  {
   "cell_type": "code",
   "execution_count": 15,
   "id": "749a7ecc",
   "metadata": {},
   "outputs": [
    {
     "name": "stdout",
     "output_type": "stream",
     "text": [
      "Belfأ¶ld -  hأ­rei   Elأ gedetlenek az emberek a kأ¶zoktatأ،ssal?\n"
     ]
    }
   ],
   "source": [
    "# test normlize function with Hu\n",
    "print(normlized_text('Belfأ¶ld - https://www.geeksforgeeks.org/read-a-file-line-by-line-in-python/Magyarorszأ،g hأ\\xadrei > Elأ©gedetlenek az emberek a kأ¶zoktatأ،ssal?'))"
   ]
  },
  {
   "cell_type": "code",
   "execution_count": 16,
   "id": "dd25b148",
   "metadata": {},
   "outputs": [
    {
     "name": "stdout",
     "output_type": "stream",
     "text": [
      " Fulton County Grand Jury said Friday an investigation of Atlanta's recent primary election produced \"no evidence\" that any irregularities took place.\n"
     ]
    }
   ],
   "source": [
    "# test normlize function with En\n",
    "print(normlized_text('https://www.geeksforgeeks.org/read-a-file-line-by-line-in-python/The Fulton County Grand Jury said Friday an investigation of Atlanta\\'s recent primary election produced \"no evidence\" that any irregularities took place.'))"
   ]
  },
  {
   "cell_type": "code",
   "execution_count": 17,
   "id": "77f30e43",
   "metadata": {},
   "outputs": [
    {
     "name": "stdout",
     "output_type": "stream",
     "text": [
      "Töltsd\n",
      "le\n",
      "ingyenes\n",
      "könyvemet\n"
     ]
    }
   ],
   "source": [
    "# words_lists[words1[W1,W2,....,W_n],words2 [W1,W2,....,W_n],...,words_n[W1,W2,....,W_n]]   : test one elment from word list \n",
    "for words in words_lists[0]:\n",
    "    print(words)"
   ]
  },
  {
   "cell_type": "code",
   "execution_count": 18,
   "id": "7bd0746f",
   "metadata": {},
   "outputs": [],
   "source": [
    "# from   [words1[W1,W2,....,W_n],words2 [W1,W2,....,W_n],...,words_n[W1,W2,....,W_n]]\n",
    "# to     flat_list[W1,W2,....,W_n]"
   ]
  },
  {
   "cell_type": "code",
   "execution_count": 19,
   "id": "36261cf9",
   "metadata": {},
   "outputs": [],
   "source": [
    "# Her we have one list contians all words \n",
    "# if you have limited memoey you have to find a way like sipliting to chunk (in case local machine with 8GB there is limitation only with 1 milleion )\n",
    "# flat_list_chunk1 = [word for sublist in words_lists[:1000000] for word in sublist]\n",
    "# flat_list_chunk2 = [word for sublist in words_lists[1000000:2000000] for word in sublist]\n",
    "# flat_list_chunk3 = [word for sublist in words_lists[2000000:3000000] for word in sublist]\n",
    "# flat_list_chunk4 = [word for sublist in words_lists[3000000:4000000] for word in sublist]\n",
    "# flat_list_chunk5 = [word for sublist in words_lists[2000000:3000000] for word in sublist]\n",
    "# CONCATENATE THEM\n",
    "# flat_list = flat_list_chunk1 + flat_list_chunk2 + flat_list_chunk3 + flat_list_chunk4 +flat_list_chunk5\n",
    "flat_list = [word for sublist in words_lists for word in sublist]"
   ]
  },
  {
   "cell_type": "code",
   "execution_count": 20,
   "id": "e35e0253",
   "metadata": {},
   "outputs": [
    {
     "data": {
      "text/plain": [
       "'technológiája'"
      ]
     },
     "execution_count": 20,
     "metadata": {},
     "output_type": "execute_result"
    }
   ],
   "source": [
    "flat_list[-1]"
   ]
  },
  {
   "cell_type": "markdown",
   "id": "0725012b",
   "metadata": {},
   "source": [
    "# 2: Break a words of list into chunks of size N using List comprehension "
   ]
  },
  {
   "cell_type": "raw",
   "id": "0924334b",
   "metadata": {},
   "source": [
    "flat_list[W1,W2,....,W_n]  -->  final[[w1,w2,...,w10 or w11],[w12,..., w20],   [...]]"
   ]
  },
  {
   "cell_type": "code",
   "execution_count": 21,
   "id": "dde42127",
   "metadata": {},
   "outputs": [
    {
     "name": "stdout",
     "output_type": "stream",
     "text": [
      "The length of resulting lines  8\n",
      "['formája.', '6.', 'téma:', 'A', 'hatóság', 'döntései', 'A', 'digitális']\n"
     ]
    }
   ],
   "source": [
    "# We choose random length for line \n",
    "n = random.randint(8, 10)\n",
    "print('The length of resulting lines ',n)\n",
    "# using list comprehension\n",
    "# final = [flat_list[i * n:(i + 1) * n] for i in range((len(flat_list) + n - 1) // n )]\n",
    "final = [flat_list[i:i + n] for i in range(0, len(flat_list), n)]     # alternative  to line above \n",
    "print (final[-2])"
   ]
  },
  {
   "cell_type": "markdown",
   "id": "95c49c5a",
   "metadata": {},
   "source": [
    "# 2.1 : Save results to txt file "
   ]
  },
  {
   "cell_type": "code",
   "execution_count": 22,
   "id": "be23b235",
   "metadata": {},
   "outputs": [
    {
     "name": "stdout",
     "output_type": "stream",
     "text": [
      "The Expacted number of liens  13959824\n"
     ]
    }
   ],
   "source": [
    "print('The Expacted number of liens ',len(final))\n",
    "with open(f'{path}out/out_split_8.txt','w' ,encoding='utf-8') as file:\n",
    "    for items in final:\n",
    "        for item in items:        \n",
    "            file.write(f\"{item} \")\n",
    "        file.write(\"\\n\")\n",
    "file.close()"
   ]
  },
  {
   "attachments": {},
   "cell_type": "markdown",
   "id": "0d31355d",
   "metadata": {},
   "source": [
    "# 2.2 : Vitulize text file after processing "
   ]
  },
  {
   "cell_type": "code",
   "execution_count": 23,
   "id": "81dbb178",
   "metadata": {},
   "outputs": [
    {
     "data": {
      "text/html": [
       "<div>\n",
       "<style scoped>\n",
       "    .dataframe tbody tr th:only-of-type {\n",
       "        vertical-align: middle;\n",
       "    }\n",
       "\n",
       "    .dataframe tbody tr th {\n",
       "        vertical-align: top;\n",
       "    }\n",
       "\n",
       "    .dataframe thead th {\n",
       "        text-align: right;\n",
       "    }\n",
       "</style>\n",
       "<table border=\"1\" class=\"dataframe\">\n",
       "  <thead>\n",
       "    <tr style=\"text-align: right;\">\n",
       "      <th></th>\n",
       "      <th>text</th>\n",
       "    </tr>\n",
       "  </thead>\n",
       "  <tbody>\n",
       "    <tr>\n",
       "      <th>0</th>\n",
       "      <td>Töltsd le ingyenes könyvemet Hová küldhetem? A...</td>\n",
       "    </tr>\n",
       "    <tr>\n",
       "      <th>1</th>\n",
       "      <td>jelölt mezők kitöltése kötelező Keresztnév Ige...</td>\n",
       "    </tr>\n",
       "    <tr>\n",
       "      <th>2</th>\n",
       "      <td>nyilatkozatot. Az Adatvédelmi nyilatkozatban f...</td>\n",
       "    </tr>\n",
       "    <tr>\n",
       "      <th>3</th>\n",
       "      <td>adatkezelésekhez hozzájárulok. Más érdekel? Ke...</td>\n",
       "    </tr>\n",
       "    <tr>\n",
       "      <th>4</th>\n",
       "      <td>óta együtt dolgozunk és tényleg profi amit Zoliék</td>\n",
       "    </tr>\n",
       "  </tbody>\n",
       "</table>\n",
       "</div>"
      ],
      "text/plain": [
       "                                                text\n",
       "0  Töltsd le ingyenes könyvemet Hová küldhetem? A...\n",
       "1  jelölt mezők kitöltése kötelező Keresztnév Ige...\n",
       "2  nyilatkozatot. Az Adatvédelmi nyilatkozatban f...\n",
       "3  adatkezelésekhez hozzájárulok. Más érdekel? Ke...\n",
       "4  óta együtt dolgozunk és tényleg profi amit Zoliék"
      ]
     },
     "execution_count": 23,
     "metadata": {},
     "output_type": "execute_result"
    }
   ],
   "source": [
    "# path = 'out_split_1.txt'\n",
    "df = pd.read_fwf(f'{path}out/out_split_8.txt', header=None)\n",
    "df.rename(columns={0: \"text\"}, inplace=True)\n",
    "# del df[1] \n",
    "# del df[2]\n",
    "# del df[3]\n",
    "# del df[4]\n",
    "# del df[5]\n",
    "# del df[6]\n",
    "# del df[7]\n",
    "# del df[8]\n",
    "# del df[9]\n",
    "# del df[10]\n",
    "df.head()"
   ]
  },
  {
   "cell_type": "code",
   "execution_count": 24,
   "id": "1e5cdd34",
   "metadata": {},
   "outputs": [
    {
     "data": {
      "text/html": [
       "<div>\n",
       "<style scoped>\n",
       "    .dataframe tbody tr th:only-of-type {\n",
       "        vertical-align: middle;\n",
       "    }\n",
       "\n",
       "    .dataframe tbody tr th {\n",
       "        vertical-align: top;\n",
       "    }\n",
       "\n",
       "    .dataframe thead th {\n",
       "        text-align: right;\n",
       "    }\n",
       "</style>\n",
       "<table border=\"1\" class=\"dataframe\">\n",
       "  <thead>\n",
       "    <tr style=\"text-align: right;\">\n",
       "      <th></th>\n",
       "      <th>text</th>\n",
       "    </tr>\n",
       "  </thead>\n",
       "  <tbody>\n",
       "    <tr>\n",
       "      <th>count</th>\n",
       "      <td>13959824</td>\n",
       "    </tr>\n",
       "    <tr>\n",
       "      <th>unique</th>\n",
       "      <td>13224320</td>\n",
       "    </tr>\n",
       "    <tr>\n",
       "      <th>top</th>\n",
       "      <td>G Y Z Ő K Ö N Y</td>\n",
       "    </tr>\n",
       "    <tr>\n",
       "      <th>freq</th>\n",
       "      <td>796</td>\n",
       "    </tr>\n",
       "  </tbody>\n",
       "</table>\n",
       "</div>"
      ],
      "text/plain": [
       "                   text\n",
       "count          13959824\n",
       "unique         13224320\n",
       "top     G Y Z Ő K Ö N Y\n",
       "freq                796"
      ]
     },
     "execution_count": 24,
     "metadata": {},
     "output_type": "execute_result"
    }
   ],
   "source": [
    "df.describe()"
   ]
  },
  {
   "cell_type": "code",
   "execution_count": 25,
   "id": "50d686b4",
   "metadata": {},
   "outputs": [
    {
     "name": "stdout",
     "output_type": "stream",
     "text": [
      "<class 'pandas.core.frame.DataFrame'>\n",
      "RangeIndex: 13959824 entries, 0 to 13959823\n",
      "Data columns (total 1 columns):\n",
      "text    object\n",
      "dtypes: object(1)\n",
      "memory usage: 106.5+ MB\n"
     ]
    }
   ],
   "source": [
    "df.info()"
   ]
  },
  {
   "cell_type": "code",
   "execution_count": 26,
   "id": "85b21d08",
   "metadata": {},
   "outputs": [
    {
     "data": {
      "text/plain": [
       "'Töltsd le ingyenes könyvemet Hová küldhetem? A csillaggal'"
      ]
     },
     "execution_count": 26,
     "metadata": {},
     "output_type": "execute_result"
    }
   ],
   "source": [
    "df['text'] [0]"
   ]
  },
  {
   "cell_type": "code",
   "execution_count": 27,
   "id": "60c3e601",
   "metadata": {},
   "outputs": [],
   "source": [
    "# with open('newnewnew.txt' ,encoding='utf-8') as f:\n",
    "#     lines = [line for line in f]\n",
    "# print(len(lines),'\\n')\n",
    "# # removing the new line characters\n",
    "# with open('out_split_1.txt.txt' ,encoding='utf-8') as f:\n",
    "#     lines = [line.rstrip() for line in f]\n",
    "# print(lines)"
   ]
  }
 ],
 "metadata": {
  "kernelspec": {
   "display_name": "Python 3",
   "language": "python",
   "name": "python3"
  },
  "language_info": {
   "codemirror_mode": {
    "name": "ipython",
    "version": 3
   },
   "file_extension": ".py",
   "mimetype": "text/x-python",
   "name": "python",
   "nbconvert_exporter": "python",
   "pygments_lexer": "ipython3",
   "version": "3.8.10"
  },
  "vscode": {
   "interpreter": {
    "hash": "e7370f93d1d0cde622a1f8e1c04877d8463912d04d973331ad4851f04de6915a"
   }
  }
 },
 "nbformat": 4,
 "nbformat_minor": 5
}
